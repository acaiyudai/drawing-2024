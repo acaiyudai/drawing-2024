{
 "cells": [
  {
   "cell_type": "markdown",
   "metadata": {},
   "source": [
    "#### 20232/11/13 TSVファイルからpythonオブジェクトを復元する"
   ]
  },
  {
   "cell_type": "code",
   "execution_count": 1,
   "metadata": {},
   "outputs": [],
   "source": [
    "import pandas as pd"
   ]
  },
  {
   "cell_type": "code",
   "execution_count": 29,
   "metadata": {},
   "outputs": [
    {
     "data": {
      "text/plain": [
       "Index(['stroke_id', 'time', 'shape_str', 'pressure_avg', 'shape_int', 'len_mm',\n",
       "       'ptx_mm', 'pty_mm', 'ptx_mm_slide_expand', 'pty_mm_slide_expand',\n",
       "       'is_point', '140*140_img', '140*140_img_vector', 'drawing_id', 'year',\n",
       "       'month', 'day', 'motif', 'times', 'name', 'embed_ax0', 'embed_ax1'],\n",
       "      dtype='object')"
      ]
     },
     "execution_count": 29,
     "metadata": {},
     "output_type": "execute_result"
    }
   ],
   "source": [
    "df = pd.read_csv('../temp/result_sample.tsv', delimiter='\\t', encoding='shift-jis')\n",
    "df['140*140_img_vector'][0]\n",
    "df.columns"
   ]
  },
  {
   "cell_type": "code",
   "execution_count": 23,
   "metadata": {},
   "outputs": [
    {
     "data": {
      "text/plain": [
       "12"
      ]
     },
     "execution_count": 23,
     "metadata": {},
     "output_type": "execute_result"
    }
   ],
   "source": [
    "df = pd.read_csv('../temp/result_sample.tsv', delimiter='\\t', encoding='shift-jis')\n",
    "\n",
    "list_sprit_list = []\n",
    "for list_str in df['ptx_mm']:\n",
    "    list_str = list_str.replace('[', '')\n",
    "    list_str = list_str.replace(']', '')\n",
    "    # print(list_str)\n",
    "    list_sprit= [float(item) for item in list_str.split(',')]\n",
    "    list_sprit_list.append(list_sprit)\n",
    "    \n",
    "len(list_sprit_list[0])\n"
   ]
  },
  {
   "cell_type": "code",
   "execution_count": null,
   "metadata": {},
   "outputs": [],
   "source": []
  }
 ],
 "metadata": {
  "kernelspec": {
   "display_name": ".venv",
   "language": "python",
   "name": "python3"
  },
  "language_info": {
   "codemirror_mode": {
    "name": "ipython",
    "version": 3
   },
   "file_extension": ".py",
   "mimetype": "text/x-python",
   "name": "python",
   "nbconvert_exporter": "python",
   "pygments_lexer": "ipython3",
   "version": "3.10.8"
  }
 },
 "nbformat": 4,
 "nbformat_minor": 2
}
