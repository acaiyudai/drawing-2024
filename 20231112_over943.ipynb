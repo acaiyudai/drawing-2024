{
 "cells": [
  {
   "cell_type": "markdown",
   "metadata": {},
   "source": [
    "#### 2023/11/12 最大座標数が943を超えるドローイングの画像データを作成"
   ]
  },
  {
   "cell_type": "code",
   "execution_count": 3,
   "metadata": {},
   "outputs": [],
   "source": [
    "from preprocess_data_over943_plusinfo import PreprocessDataOver943PlusInfo\n",
    "import pandas as pd\n",
    "import cv2\n",
    "\n",
    "df_all = pd.read_excel('../data/all_drawing_info.xlsx', index_col=0)\n",
    "df_asai_target = pd.read_excel('../data/asai_target_info.xlsx', index_col=0)\n",
    "cannot_getdata_id = [217, 472, 698, 853]\n",
    "\n",
    "df_notcreateimg = df_all[~df_all['drawing_id'].isin(df_asai_target['drawing_id'].to_list())]\n",
    "df_cangetdata= df_notcreateimg[~df_notcreateimg['drawing_id'].isin(cannot_getdata_id)]"
   ]
  },
  {
   "cell_type": "code",
   "execution_count": 7,
   "metadata": {},
   "outputs": [],
   "source": [
    "# for drawing_id, url, rotate_type in zip(df_cangetdata['drawing_id'], df_cangetdata['url'], df_cangetdata['rotate_type']):\n",
    "#     data = PreprocessDataOver943PlusInfo(url, rotate_type)\n",
    "#     file_name = f'../temp/20231110_drawingimg_plot_rotate/drawing_id_{drawing_id}.jpg'\n",
    "#     data.draw_allstroke(file_name)\n",
    "#     print(file_name)"
   ]
  },
  {
   "cell_type": "code",
   "execution_count": 8,
   "metadata": {},
   "outputs": [
    {
     "name": "stdout",
     "output_type": "stream",
     "text": [
      "../temp/20231110_drawingimg_plot_rotate_resize/drawing_id_15.jpg\n",
      "../temp/20231110_drawingimg_plot_rotate_resize/drawing_id_16.jpg\n",
      "../temp/20231110_drawingimg_plot_rotate_resize/drawing_id_29.jpg\n",
      "../temp/20231110_drawingimg_plot_rotate_resize/drawing_id_30.jpg\n",
      "../temp/20231110_drawingimg_plot_rotate_resize/drawing_id_33.jpg\n",
      "../temp/20231110_drawingimg_plot_rotate_resize/drawing_id_49.jpg\n",
      "../temp/20231110_drawingimg_plot_rotate_resize/drawing_id_157.jpg\n",
      "../temp/20231110_drawingimg_plot_rotate_resize/drawing_id_162.jpg\n",
      "../temp/20231110_drawingimg_plot_rotate_resize/drawing_id_266.jpg\n",
      "../temp/20231110_drawingimg_plot_rotate_resize/drawing_id_278.jpg\n",
      "../temp/20231110_drawingimg_plot_rotate_resize/drawing_id_281.jpg\n",
      "../temp/20231110_drawingimg_plot_rotate_resize/drawing_id_305.jpg\n",
      "../temp/20231110_drawingimg_plot_rotate_resize/drawing_id_307.jpg\n",
      "../temp/20231110_drawingimg_plot_rotate_resize/drawing_id_318.jpg\n",
      "../temp/20231110_drawingimg_plot_rotate_resize/drawing_id_329.jpg\n",
      "../temp/20231110_drawingimg_plot_rotate_resize/drawing_id_330.jpg\n",
      "../temp/20231110_drawingimg_plot_rotate_resize/drawing_id_331.jpg\n",
      "../temp/20231110_drawingimg_plot_rotate_resize/drawing_id_333.jpg\n",
      "../temp/20231110_drawingimg_plot_rotate_resize/drawing_id_340.jpg\n",
      "../temp/20231110_drawingimg_plot_rotate_resize/drawing_id_356.jpg\n",
      "../temp/20231110_drawingimg_plot_rotate_resize/drawing_id_360.jpg\n",
      "../temp/20231110_drawingimg_plot_rotate_resize/drawing_id_363.jpg\n",
      "../temp/20231110_drawingimg_plot_rotate_resize/drawing_id_366.jpg\n",
      "../temp/20231110_drawingimg_plot_rotate_resize/drawing_id_369.jpg\n",
      "../temp/20231110_drawingimg_plot_rotate_resize/drawing_id_378.jpg\n",
      "../temp/20231110_drawingimg_plot_rotate_resize/drawing_id_409.jpg\n",
      "../temp/20231110_drawingimg_plot_rotate_resize/drawing_id_418.jpg\n",
      "../temp/20231110_drawingimg_plot_rotate_resize/drawing_id_425.jpg\n",
      "../temp/20231110_drawingimg_plot_rotate_resize/drawing_id_426.jpg\n",
      "../temp/20231110_drawingimg_plot_rotate_resize/drawing_id_469.jpg\n",
      "../temp/20231110_drawingimg_plot_rotate_resize/drawing_id_476.jpg\n",
      "../temp/20231110_drawingimg_plot_rotate_resize/drawing_id_488.jpg\n",
      "../temp/20231110_drawingimg_plot_rotate_resize/drawing_id_512.jpg\n",
      "../temp/20231110_drawingimg_plot_rotate_resize/drawing_id_534.jpg\n",
      "../temp/20231110_drawingimg_plot_rotate_resize/drawing_id_542.jpg\n",
      "../temp/20231110_drawingimg_plot_rotate_resize/drawing_id_653.jpg\n",
      "../temp/20231110_drawingimg_plot_rotate_resize/drawing_id_663.jpg\n",
      "../temp/20231110_drawingimg_plot_rotate_resize/drawing_id_689.jpg\n",
      "../temp/20231110_drawingimg_plot_rotate_resize/drawing_id_715.jpg\n",
      "../temp/20231110_drawingimg_plot_rotate_resize/drawing_id_772.jpg\n",
      "../temp/20231110_drawingimg_plot_rotate_resize/drawing_id_833.jpg\n"
     ]
    }
   ],
   "source": [
    "# 画像サイズを小さくして保存する\n",
    "for drawing_id, rotate_type in zip(df_cangetdata['drawing_id'], df_cangetdata['rotate_type']):\n",
    "    save_file_name = f'../temp/20231110_drawingimg_plot_rotate_resize/drawing_id_{drawing_id}.jpg'\n",
    "    img = cv2.imread(f'../temp/20231110_drawingimg_plot_rotate/drawing_id_{drawing_id}.jpg')\n",
    "    \n",
    "    if rotate_type == 0 or rotate_type == 180:\n",
    "        img_resize = cv2.resize(img, (90, 63))\n",
    "    elif rotate_type == 90 or rotate_type == 270:\n",
    "        img_resize = cv2.resize(img, (63, 90))\n",
    "    \n",
    "    cv2.imwrite(save_file_name, img_resize)\n",
    "    print(save_file_name)"
   ]
  },
  {
   "cell_type": "code",
   "execution_count": null,
   "metadata": {},
   "outputs": [],
   "source": []
  }
 ],
 "metadata": {
  "kernelspec": {
   "display_name": ".venv",
   "language": "python",
   "name": "python3"
  },
  "language_info": {
   "codemirror_mode": {
    "name": "ipython",
    "version": 3
   },
   "file_extension": ".py",
   "mimetype": "text/x-python",
   "name": "python",
   "nbconvert_exporter": "python",
   "pygments_lexer": "ipython3",
   "version": "3.10.8"
  }
 },
 "nbformat": 4,
 "nbformat_minor": 2
}
