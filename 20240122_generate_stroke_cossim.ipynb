{
 "cells": [
  {
   "cell_type": "markdown",
   "metadata": {},
   "source": [
    "### 2024/01/22 コサイン類似度の時系列データを描画する"
   ]
  },
  {
   "cell_type": "code",
   "execution_count": 4,
   "metadata": {},
   "outputs": [],
   "source": [
    "import numpy as np\n",
    "import pandas as pd\n",
    "import matplotlib.pyplot as plt\n",
    "import tensorflow as tf\n",
    "import sklearn\n",
    "from sklearn.metrics import accuracy_score, precision_score, recall_score\n",
    "from sklearn.model_selection import train_test_split\n",
    "from tensorflow.keras import layers, losses\n",
    "from tensorflow.keras.datasets import fashion_mnist\n",
    "from tensorflow.keras.models import Model"
   ]
  },
  {
   "cell_type": "code",
   "execution_count": 1,
   "metadata": {},
   "outputs": [],
   "source": [
    "box_abct_nopt = pd.read_pickle('../temp/20240117_box_abct_nopt_rmoverlapcoord.pkl')"
   ]
  },
  {
   "cell_type": "code",
   "execution_count": 3,
   "metadata": {},
   "outputs": [],
   "source": [
    "# COSSIM_PLOT_COLOR = '#47C96D'\n",
    "# LINE_WIDTH = 1\n",
    "# def generate_cossim_plot(df):\n",
    "#     plt.rcParams['font.family'] = 'MS Gothic'\n",
    "#     FIG_SIZE = (10, 5)\n",
    "#     for drawing_id, cos_sim, stroke_id in zip(df['drawing_id'], df['cos_sim'], df['stroke_id']):\n",
    "#         fig, ax = plt.subplots(figsize=(FIG_SIZE[0],FIG_SIZE[1]))\n",
    "#         ax.set_ylim(-1.2, 1.2)\n",
    "#         ax.set_xlabel('線形補完後の座標の順番 [番目]')\n",
    "#         ax.set_ylabel('コサイン類似度')\n",
    "#         ax.grid(True, alpha=0.2)\n",
    "#         title = f'cossim_{drawing_id}_{stroke_id}'\n",
    "#         ax.set_title(title)\n",
    "#         ax.plot(range(941), cos_sim, color=COSSIM_PLOT_COLOR, linewidth=LINE_WIDTH, alpha=1)\n",
    "#         plt.savefig(f'../temp/test/{title}.png')\n",
    "        \n",
    "#         print(drawing_id, ' | ', stroke_id)\n",
    "    \n",
    "#     return\n",
    "\n",
    "# generate_cossim_plot(box_abct_nopt[23500:])"
   ]
  },
  {
   "cell_type": "markdown",
   "metadata": {},
   "source": [
    "##### ▶AEに入力してみる"
   ]
  },
  {
   "cell_type": "code",
   "execution_count": 12,
   "metadata": {},
   "outputs": [],
   "source": [
    "strt = box_abct_nopt.query('shape_int == 1')\n",
    "curv = box_abct_nopt.query('shape_int == 2')\n",
    "comp = box_abct_nopt.query('shape_int == 3')\n",
    "hatc = box_abct_nopt.query('shape_int == 4')\n",
    "\n",
    "train_data = strt.copy()\n",
    "train_nparray = np.array([np.array(nparr) for nparr in train_data['cos_sim'].to_numpy()])\n",
    "\n",
    "test_data = box_abct_nopt.copy()\n",
    "test_nparray = np.array([np.array(nparr) for nparr in test_data['cos_sim'].to_numpy()])"
   ]
  },
  {
   "cell_type": "code",
   "execution_count": 16,
   "metadata": {},
   "outputs": [],
   "source": [
    "INPUT_SIZE = 941\n",
    "\n",
    "class AnomalyDetector(Model):\n",
    "  def __init__(self):\n",
    "    super(AnomalyDetector, self).__init__()\n",
    "    self.encoder = tf.keras.Sequential([\n",
    "      layers.Dense(256, activation=\"relu\"),\n",
    "      layers.Dense(128, activation=\"relu\"),\n",
    "      layers.Dense(64, activation=\"relu\")])\n",
    "\n",
    "    self.decoder = tf.keras.Sequential([\n",
    "      layers.Dense(128, activation=\"relu\"),\n",
    "      layers.Dense(256, activation=\"relu\"),\n",
    "      layers.Dense(INPUT_SIZE, activation=\"relu\")])\n",
    "\n",
    "  def call(self, x):\n",
    "    encoded = self.encoder(x)\n",
    "    decoded = self.decoder(encoded)\n",
    "    return decoded"
   ]
  },
  {
   "cell_type": "code",
   "execution_count": 17,
   "metadata": {},
   "outputs": [],
   "source": [
    "autoencoder = AnomalyDetector()\n",
    "autoencoder.compile(optimizer='adam', loss='mae')"
   ]
  },
  {
   "cell_type": "code",
   "execution_count": 18,
   "metadata": {},
   "outputs": [
    {
     "name": "stdout",
     "output_type": "stream",
     "text": [
      "Epoch 1/20\n",
      "24/24 [==============================] - 2s 43ms/step - loss: 0.5261 - val_loss: 0.4248\n",
      "Epoch 2/20\n",
      "24/24 [==============================] - 1s 30ms/step - loss: 0.4193 - val_loss: 0.4128\n",
      "Epoch 3/20\n",
      "24/24 [==============================] - 1s 28ms/step - loss: 0.4059 - val_loss: 0.4173\n",
      "Epoch 4/20\n",
      "24/24 [==============================] - 1s 27ms/step - loss: 0.4059 - val_loss: 0.4096\n",
      "Epoch 5/20\n",
      "24/24 [==============================] - 1s 27ms/step - loss: 0.3986 - val_loss: 0.3975\n",
      "Epoch 6/20\n",
      "24/24 [==============================] - 1s 29ms/step - loss: 0.3969 - val_loss: 0.3953\n",
      "Epoch 7/20\n",
      "24/24 [==============================] - 1s 31ms/step - loss: 0.3959 - val_loss: 0.3967\n",
      "Epoch 8/20\n",
      "24/24 [==============================] - 1s 28ms/step - loss: 0.3943 - val_loss: 0.3980\n",
      "Epoch 9/20\n",
      "24/24 [==============================] - 1s 29ms/step - loss: 0.3948 - val_loss: 0.3925\n",
      "Epoch 10/20\n",
      "24/24 [==============================] - 1s 28ms/step - loss: 0.3934 - val_loss: 0.3934\n",
      "Epoch 11/20\n",
      "24/24 [==============================] - 1s 27ms/step - loss: 0.3939 - val_loss: 0.3953\n",
      "Epoch 12/20\n",
      "24/24 [==============================] - 1s 28ms/step - loss: 0.3915 - val_loss: 0.3882\n",
      "Epoch 13/20\n",
      "24/24 [==============================] - 1s 27ms/step - loss: 0.3917 - val_loss: 0.3956\n",
      "Epoch 14/20\n",
      "24/24 [==============================] - 1s 27ms/step - loss: 0.3916 - val_loss: 0.3892\n",
      "Epoch 15/20\n",
      "24/24 [==============================] - 1s 28ms/step - loss: 0.3902 - val_loss: 0.3965\n",
      "Epoch 16/20\n",
      "24/24 [==============================] - 1s 27ms/step - loss: 0.3892 - val_loss: 0.3925\n",
      "Epoch 17/20\n",
      "24/24 [==============================] - 1s 27ms/step - loss: 0.3903 - val_loss: 0.3922\n",
      "Epoch 18/20\n",
      "24/24 [==============================] - 1s 30ms/step - loss: 0.3886 - val_loss: 0.3861\n",
      "Epoch 19/20\n",
      "24/24 [==============================] - 1s 27ms/step - loss: 0.3880 - val_loss: 0.3870\n",
      "Epoch 20/20\n",
      "24/24 [==============================] - 1s 27ms/step - loss: 0.3874 - val_loss: 0.3873\n"
     ]
    }
   ],
   "source": [
    "history = autoencoder.fit(\n",
    "    train_nparray,\n",
    "    train_nparray,\n",
    "    epochs=20,\n",
    "    batch_size=512,\n",
    "    validation_data=(test_nparray, test_nparray),\n",
    "    shuffle=True)"
   ]
  },
  {
   "cell_type": "code",
   "execution_count": 19,
   "metadata": {},
   "outputs": [
    {
     "data": {
      "text/plain": [
       "<matplotlib.legend.Legend at 0x21297a09600>"
      ]
     },
     "execution_count": 19,
     "metadata": {},
     "output_type": "execute_result"
    },
    {
     "data": {
      "image/png": "[encoded data removed]",
      "text/plain": [
       "<Figure size 640x480 with 1 Axes>"
      ]
     },
     "metadata": {},
     "output_type": "display_data"
    }
   ],
   "source": [
    "plt.plot(history.history[\"loss\"], label=\"Training Loss\")\n",
    "plt.plot(history.history[\"val_loss\"], label=\"Validation Loss\")\n",
    "plt.legend()"
   ]
  },
  {
   "cell_type": "code",
   "execution_count": 22,
   "metadata": {},
   "outputs": [
    {
     "ename": "AttributeError",
     "evalue": "Exception encountered when calling layer 'sequential_2' (type Sequential).\n\n'tuple' object has no attribute 'rank'\n\nCall arguments received by layer 'sequential_2' (type Sequential):\n  • inputs=      stroke_id  time     shape_str  pressure_avg  shape_int      len_mm  \\\n0             0     0      Straight    115.473684          1   80.054154   \n1             1     2      Straight    106.814815          1  237.091119   \n2             2     9  Simple curve    109.294118          2   41.309921   \n3             3    11  Simple curve    118.181818          2   38.290272   \n4             4    14  Simple curve     95.833333          2    5.867893   \n...         ...   ...           ...           ...        ...         ...   \n1983       1983  1237  Simple curve     78.142857          2  284.995283   \n1984       1984  1238      Straight     71.272727          1  130.946774   \n1985       1985  1238      Straight     70.888889          1   87.927395   \n1986       1986  1238      Straight     84.666667          1  119.567617   \n1987       1987  1239      Hatching     81.880000          4  445.417081   \n\n                                                 ptx_mm  \\\n0     [103.16250000000002, 104.32499999999999, 105.2...   \n1     [169.08750000000003, 168.82500000000005, 168.7...   \n2     [169.20000000000005, 169.20000000000005, 169.1...   \n3     [103.42500000000001, 103.53750000000002, 103.5...   \n4     [102.41250000000004, 102.41250000000004, 102.4...   \n...                                                 ...   \n1983  [130.04999999999998, 150.9, 159.2625, 177.4874...   \n1984  [108.4125, 111.1875, 121.725, 126.4875, 154.23...   \n1985  [219.9375, 213.9375, 207.375, 192.9, 177.975, ...   \n1986  [115.725, 113.1375, 111.5625, 111.0, 112.3125,...   \n1987  [214.4625, 210.4125, 205.61249999999998, 188.2...   \n\n                                                 pty_mm remove_index  \\\n0     [194.40000000000003, 194.70000000000002, 195.1...           []   \n1     [237.9, 238.2375, 238.425, 238.425, 237.4875, ...           []   \n2     [236.5875, 236.6625, 238.5, 239.9625, 241.125,...           []   \n3     [194.32500000000002, 196.27500000000003, 197.4...           []   \n4     [231.8625, 231.90000000000003, 232.20000000000...           []   \n...                                                 ...          ...   \n1983  [185.54999999999998, 193.575, 196.612499999999...           []   \n1984  [181.0875, 181.98749999999998, 185.17499999999...           []   \n1985  [214.95, 213.0, 210.86249999999998, 206.475, 2...           []   \n1986  [183.7125, 183.075, 182.73749999999998, 182.66...           []   \n1987  [215.85, 214.23749999999998, 212.5125, 206.7, ...           []   \n\n                                    ptx_mm_slide_expand  ...  \\\n0     [0.0, 0.5175292153589292, 1.0350584307178583, ...  ...   \n1     [0.9210526315789478, 0.59868421052633, 0.27631...  ...   \n2     [4.203821656051186, 4.203821656051186, 4.20382...  ...   \n3     [14.055118110235815, 14.081504439604295, 14.10...  ...   \n4     [38.940397350995745, 38.940397350995745, 38.94...  ...   \n...                                                 ...  ...   \n1983  [70.66122032167473, 71.48923495872688, 72.3172...  ...   \n1984  [0.0, 0.44457795133672273, 0.8891559026734933,...  ...   \n1985  [420.00000000000006, 419.5572422517394, 419.11...  ...   \n1986  [18.273480662983406, 17.79696132596684, 17.320...  ...   \n1987  [364.16342412451365, 362.5291828793775, 360.89...  ...   \n\n                                            140*140_img  \\\n0     [[1.0, 1.0, 1.0, 1.0, 0.0, 0.0, 0.0, 0.0, 0.0,...   \n1     [[0.0, 0.0, 0.0, 0.0, 0.0, 0.0, 0.0, 0.0, 0.0,...   \n2     [[0.0, 1.0, 0.0, 0.0, 0.0, 0.0, 0.0, 0.0, 0.0,...   \n3     [[0.0, 0.0, 0.0, 0.0, 1.0, 0.0, 0.0, 0.0, 0.0,...   \n4     [[0.0, 0.0, 0.0, 0.0, 0.0, 0.0, 0.0, 0.0, 0.0,...   \n...                                                 ...   \n1983  [[1.0, 1.0, 1.0, 1.0, 1.0, 1.0, 1.0, 1.0, 0.0,...   \n1984  [[1.0, 1.0, 1.0, 0.0, 0.0, 0.0, 0.0, 0.0, 0.0,...   \n1985  [[1.0, 1.0, 1.0, 1.0, 0.0, 0.0, 0.0, 0.0, 0.0,...   \n1986  [[1.0, 1.0, 1.0, 1.0, 1.0, 0.0, 0.0, 0.0, 0.0,...   \n1987  [[1.0, 1.0, 1.0, 1.0, 1.0, 0.0, 0.0, 0.0, 0.0,...   \n\n                                     140*140_img_vector drawing_id  year  \\\n0     [1.0, 1.0, 1.0, 1.0, 0.0, 0.0, 0.0, 0.0, 0.0, ...          3  2013   \n1     [0.0, 0.0, 0.0, 0.0, 0.0, 0.0, 0.0, 0.0, 0.0, ...          3  2013   \n2     [0.0, 1.0, 0.0, 0.0, 0.0, 0.0, 0.0, 0.0, 0.0, ...          3  2013   \n3     [0.0, 0.0, 0.0, 0.0, 1.0, 0.0, 0.0, 0.0, 0.0, ...          3  2013   \n4     [0.0, 0.0, 0.0, 0.0, 0.0, 0.0, 0.0, 0.0, 0.0, ...          3  2013   \n...                                                 ...        ...   ...   \n1983  [1.0, 1.0, 1.0, 1.0, 1.0, 1.0, 1.0, 1.0, 0.0, ...        957  2022   \n1984  [1.0, 1.0, 1.0, 0.0, 0.0, 0.0, 0.0, 0.0, 0.0, ...        957  2022   \n1985  [1.0, 1.0, 1.0, 1.0, 0.0, 0.0, 0.0, 0.0, 0.0, ...        957  2022   \n1986  [1.0, 1.0, 1.0, 1.0, 1.0, 0.0, 0.0, 0.0, 0.0, ...        957  2022   \n1987  [1.0, 1.0, 1.0, 1.0, 1.0, 0.0, 0.0, 0.0, 0.0, ...        957  2022   \n\n      month  day  motif  times   name  \\\n0         4   18     紙箱      1  井原亜利紗   \n1         4   18     紙箱      1  井原亜利紗   \n2         4   18     紙箱      1  井原亜利紗   \n3         4   18     紙箱      1  井原亜利紗   \n4         4   18     紙箱      1  井原亜利紗   \n...     ...  ...    ...    ...    ...   \n1983      6   13     紙箱      3  saito   \n1984      6   13     紙箱      3  saito   \n1985      6   13     紙箱      3  saito   \n1986      6   13     紙箱      3  saito   \n1987      6   13     紙箱      3  saito   \n\n                                                cos_sim  \n0     [1.0, 1.0, 1.0, 1.0, 0.9999999999999998, 1.0, ...  \n1     [1.0, 0.9927337820337144, -0.5144957554275599,...  \n2     [1.0, 0.9991680531005747, 0.9999999999999999, ...  \n3     [1.0, 1.0000000000000002, 1.0, 1.0, 0.99999999...  \n4     [1.0, 1.0, 1.0, 1.0, 1.0, 1.0, 1.0, 1.0, 1.0, ...  \n...                                                 ...  \n1983  [0.9999999999999999, 1.0, 1.0, 1.0, 1.0, 0.999...  \n1984  [0.9999999999999999, 1.0000000000000002, 1.0, ...  \n1985  [1.0, 1.0, 1.0, 1.0, 0.9999999999999999, 0.999...  \n1986  [1.0, 1.0, 1.0, 1.0000000000000002, 1.00000000...  \n1987  [1.0, 1.0, 0.9999999999999999, 1.0, 1.0, 1.0, ...  \n\n[23535 rows x 22 columns]\n  • training=None\n  • mask=None",
     "output_type": "error",
     "traceback": [
      "\u001b[1;31m---------------------------------------------------------------------------\u001b[0m",
      "\u001b[1;31mAttributeError\u001b[0m                            Traceback (most recent call last)",
      "Cell \u001b[1;32mIn[22], line 1\u001b[0m\n\u001b[1;32m----> 1\u001b[0m encoded_data \u001b[38;5;241m=\u001b[39m \u001b[43mautoencoder\u001b[49m\u001b[38;5;241;43m.\u001b[39;49m\u001b[43mencoder\u001b[49m\u001b[43m(\u001b[49m\u001b[43mtest_data\u001b[49m\u001b[43m)\u001b[49m\u001b[38;5;241m.\u001b[39mnumpy()\n\u001b[0;32m      2\u001b[0m decoded_data \u001b[38;5;241m=\u001b[39m autoencoder\u001b[38;5;241m.\u001b[39mdecoder(encoded_data)\u001b[38;5;241m.\u001b[39mnumpy()\n\u001b[0;32m      4\u001b[0m plt\u001b[38;5;241m.\u001b[39mplot(test_data[\u001b[38;5;241m10\u001b[39m], \u001b[38;5;124m'\u001b[39m\u001b[38;5;124mb\u001b[39m\u001b[38;5;124m'\u001b[39m)\n",
      "File \u001b[1;32mc:\\Users\\ispec\\MyWorkSpace\\python\\drawing_2023\\.venv\\lib\\site-packages\\keras\\src\\utils\\traceback_utils.py:70\u001b[0m, in \u001b[0;36mfilter_traceback.<locals>.error_handler\u001b[1;34m(*args, **kwargs)\u001b[0m\n\u001b[0;32m     67\u001b[0m     filtered_tb \u001b[38;5;241m=\u001b[39m _process_traceback_frames(e\u001b[38;5;241m.\u001b[39m__traceback__)\n\u001b[0;32m     68\u001b[0m     \u001b[38;5;66;03m# To get the full stack trace, call:\u001b[39;00m\n\u001b[0;32m     69\u001b[0m     \u001b[38;5;66;03m# `tf.debugging.disable_traceback_filtering()`\u001b[39;00m\n\u001b[1;32m---> 70\u001b[0m     \u001b[38;5;28;01mraise\u001b[39;00m e\u001b[38;5;241m.\u001b[39mwith_traceback(filtered_tb) \u001b[38;5;28;01mfrom\u001b[39;00m \u001b[38;5;28;01mNone\u001b[39;00m\n\u001b[0;32m     71\u001b[0m \u001b[38;5;28;01mfinally\u001b[39;00m:\n\u001b[0;32m     72\u001b[0m     \u001b[38;5;28;01mdel\u001b[39;00m filtered_tb\n",
      "File \u001b[1;32mc:\\Users\\ispec\\MyWorkSpace\\python\\drawing_2023\\.venv\\lib\\site-packages\\keras\\src\\engine\\input_spec.py:251\u001b[0m, in \u001b[0;36massert_input_compatibility\u001b[1;34m(input_spec, inputs, layer_name)\u001b[0m\n\u001b[0;32m    244\u001b[0m         \u001b[38;5;28;01mraise\u001b[39;00m \u001b[38;5;167;01mValueError\u001b[39;00m(\n\u001b[0;32m    245\u001b[0m             \u001b[38;5;124mf\u001b[39m\u001b[38;5;124m'\u001b[39m\u001b[38;5;124mInput \u001b[39m\u001b[38;5;132;01m{\u001b[39;00minput_index\u001b[38;5;132;01m}\u001b[39;00m\u001b[38;5;124m of layer \u001b[39m\u001b[38;5;124m\"\u001b[39m\u001b[38;5;132;01m{\u001b[39;00mlayer_name\u001b[38;5;132;01m}\u001b[39;00m\u001b[38;5;124m\"\u001b[39m\u001b[38;5;124m \u001b[39m\u001b[38;5;124m'\u001b[39m\n\u001b[0;32m    246\u001b[0m             \u001b[38;5;124m\"\u001b[39m\u001b[38;5;124mis incompatible with the layer: \u001b[39m\u001b[38;5;124m\"\u001b[39m\n\u001b[0;32m    247\u001b[0m             \u001b[38;5;124mf\u001b[39m\u001b[38;5;124m\"\u001b[39m\u001b[38;5;124mexpected max_ndim=\u001b[39m\u001b[38;5;132;01m{\u001b[39;00mspec\u001b[38;5;241m.\u001b[39mmax_ndim\u001b[38;5;132;01m}\u001b[39;00m\u001b[38;5;124m, \u001b[39m\u001b[38;5;124m\"\u001b[39m\n\u001b[0;32m    248\u001b[0m             \u001b[38;5;124mf\u001b[39m\u001b[38;5;124m\"\u001b[39m\u001b[38;5;124mfound ndim=\u001b[39m\u001b[38;5;132;01m{\u001b[39;00mndim\u001b[38;5;132;01m}\u001b[39;00m\u001b[38;5;124m\"\u001b[39m\n\u001b[0;32m    249\u001b[0m         )\n\u001b[0;32m    250\u001b[0m \u001b[38;5;28;01mif\u001b[39;00m spec\u001b[38;5;241m.\u001b[39mmin_ndim \u001b[38;5;129;01mis\u001b[39;00m \u001b[38;5;129;01mnot\u001b[39;00m \u001b[38;5;28;01mNone\u001b[39;00m:\n\u001b[1;32m--> 251\u001b[0m     ndim \u001b[38;5;241m=\u001b[39m \u001b[43mx\u001b[49m\u001b[38;5;241;43m.\u001b[39;49m\u001b[43mshape\u001b[49m\u001b[38;5;241;43m.\u001b[39;49m\u001b[43mrank\u001b[49m\n\u001b[0;32m    252\u001b[0m     \u001b[38;5;28;01mif\u001b[39;00m ndim \u001b[38;5;129;01mis\u001b[39;00m \u001b[38;5;129;01mnot\u001b[39;00m \u001b[38;5;28;01mNone\u001b[39;00m \u001b[38;5;129;01mand\u001b[39;00m ndim \u001b[38;5;241m<\u001b[39m spec\u001b[38;5;241m.\u001b[39mmin_ndim:\n\u001b[0;32m    253\u001b[0m         \u001b[38;5;28;01mraise\u001b[39;00m \u001b[38;5;167;01mValueError\u001b[39;00m(\n\u001b[0;32m    254\u001b[0m             \u001b[38;5;124mf\u001b[39m\u001b[38;5;124m'\u001b[39m\u001b[38;5;124mInput \u001b[39m\u001b[38;5;132;01m{\u001b[39;00minput_index\u001b[38;5;132;01m}\u001b[39;00m\u001b[38;5;124m of layer \u001b[39m\u001b[38;5;124m\"\u001b[39m\u001b[38;5;132;01m{\u001b[39;00mlayer_name\u001b[38;5;132;01m}\u001b[39;00m\u001b[38;5;124m\"\u001b[39m\u001b[38;5;124m \u001b[39m\u001b[38;5;124m'\u001b[39m\n\u001b[0;32m    255\u001b[0m             \u001b[38;5;124m\"\u001b[39m\u001b[38;5;124mis incompatible with the layer: \u001b[39m\u001b[38;5;124m\"\u001b[39m\n\u001b[1;32m   (...)\u001b[0m\n\u001b[0;32m    258\u001b[0m             \u001b[38;5;124mf\u001b[39m\u001b[38;5;124m\"\u001b[39m\u001b[38;5;124mFull shape received: \u001b[39m\u001b[38;5;132;01m{\u001b[39;00m\u001b[38;5;28mtuple\u001b[39m(shape)\u001b[38;5;132;01m}\u001b[39;00m\u001b[38;5;124m\"\u001b[39m\n\u001b[0;32m    259\u001b[0m         )\n",
      "\u001b[1;31mAttributeError\u001b[0m: Exception encountered when calling layer 'sequential_2' (type Sequential).\n\n'tuple' object has no attribute 'rank'\n\nCall arguments received by layer 'sequential_2' (type Sequential):\n  • inputs=      stroke_id  time     shape_str  pressure_avg  shape_int      len_mm  \\\n0             0     0      Straight    115.473684          1   80.054154   \n1             1     2      Straight    106.814815          1  237.091119   \n2             2     9  Simple curve    109.294118          2   41.309921   \n3             3    11  Simple curve    118.181818          2   38.290272   \n4             4    14  Simple curve     95.833333          2    5.867893   \n...         ...   ...           ...           ...        ...         ...   \n1983       1983  1237  Simple curve     78.142857          2  284.995283   \n1984       1984  1238      Straight     71.272727          1  130.946774   \n1985       1985  1238      Straight     70.888889          1   87.927395   \n1986       1986  1238      Straight     84.666667          1  119.567617   \n1987       1987  1239      Hatching     81.880000          4  445.417081   \n\n                                                 ptx_mm  \\\n0     [103.16250000000002, 104.32499999999999, 105.2...   \n1     [169.08750000000003, 168.82500000000005, 168.7...   \n2     [169.20000000000005, 169.20000000000005, 169.1...   \n3     [103.42500000000001, 103.53750000000002, 103.5...   \n4     [102.41250000000004, 102.41250000000004, 102.4...   \n...                                                 ...   \n1983  [130.04999999999998, 150.9, 159.2625, 177.4874...   \n1984  [108.4125, 111.1875, 121.725, 126.4875, 154.23...   \n1985  [219.9375, 213.9375, 207.375, 192.9, 177.975, ...   \n1986  [115.725, 113.1375, 111.5625, 111.0, 112.3125,...   \n1987  [214.4625, 210.4125, 205.61249999999998, 188.2...   \n\n                                                 pty_mm remove_index  \\\n0     [194.40000000000003, 194.70000000000002, 195.1...           []   \n1     [237.9, 238.2375, 238.425, 238.425, 237.4875, ...           []   \n2     [236.5875, 236.6625, 238.5, 239.9625, 241.125,...           []   \n3     [194.32500000000002, 196.27500000000003, 197.4...           []   \n4     [231.8625, 231.90000000000003, 232.20000000000...           []   \n...                                                 ...          ...   \n1983  [185.54999999999998, 193.575, 196.612499999999...           []   \n1984  [181.0875, 181.98749999999998, 185.17499999999...           []   \n1985  [214.95, 213.0, 210.86249999999998, 206.475, 2...           []   \n1986  [183.7125, 183.075, 182.73749999999998, 182.66...           []   \n1987  [215.85, 214.23749999999998, 212.5125, 206.7, ...           []   \n\n                                    ptx_mm_slide_expand  ...  \\\n0     [0.0, 0.5175292153589292, 1.0350584307178583, ...  ...   \n1     [0.9210526315789478, 0.59868421052633, 0.27631...  ...   \n2     [4.203821656051186, 4.203821656051186, 4.20382...  ...   \n3     [14.055118110235815, 14.081504439604295, 14.10...  ...   \n4     [38.940397350995745, 38.940397350995745, 38.94...  ...   \n...                                                 ...  ...   \n1983  [70.66122032167473, 71.48923495872688, 72.3172...  ...   \n1984  [0.0, 0.44457795133672273, 0.8891559026734933,...  ...   \n1985  [420.00000000000006, 419.5572422517394, 419.11...  ...   \n1986  [18.273480662983406, 17.79696132596684, 17.320...  ...   \n1987  [364.16342412451365, 362.5291828793775, 360.89...  ...   \n\n                                            140*140_img  \\\n0     [[1.0, 1.0, 1.0, 1.0, 0.0, 0.0, 0.0, 0.0, 0.0,...   \n1     [[0.0, 0.0, 0.0, 0.0, 0.0, 0.0, 0.0, 0.0, 0.0,...   \n2     [[0.0, 1.0, 0.0, 0.0, 0.0, 0.0, 0.0, 0.0, 0.0,...   \n3     [[0.0, 0.0, 0.0, 0.0, 1.0, 0.0, 0.0, 0.0, 0.0,...   \n4     [[0.0, 0.0, 0.0, 0.0, 0.0, 0.0, 0.0, 0.0, 0.0,...   \n...                                                 ...   \n1983  [[1.0, 1.0, 1.0, 1.0, 1.0, 1.0, 1.0, 1.0, 0.0,...   \n1984  [[1.0, 1.0, 1.0, 0.0, 0.0, 0.0, 0.0, 0.0, 0.0,...   \n1985  [[1.0, 1.0, 1.0, 1.0, 0.0, 0.0, 0.0, 0.0, 0.0,...   \n1986  [[1.0, 1.0, 1.0, 1.0, 1.0, 0.0, 0.0, 0.0, 0.0,...   \n1987  [[1.0, 1.0, 1.0, 1.0, 1.0, 0.0, 0.0, 0.0, 0.0,...   \n\n                                     140*140_img_vector drawing_id  year  \\\n0     [1.0, 1.0, 1.0, 1.0, 0.0, 0.0, 0.0, 0.0, 0.0, ...          3  2013   \n1     [0.0, 0.0, 0.0, 0.0, 0.0, 0.0, 0.0, 0.0, 0.0, ...          3  2013   \n2     [0.0, 1.0, 0.0, 0.0, 0.0, 0.0, 0.0, 0.0, 0.0, ...          3  2013   \n3     [0.0, 0.0, 0.0, 0.0, 1.0, 0.0, 0.0, 0.0, 0.0, ...          3  2013   \n4     [0.0, 0.0, 0.0, 0.0, 0.0, 0.0, 0.0, 0.0, 0.0, ...          3  2013   \n...                                                 ...        ...   ...   \n1983  [1.0, 1.0, 1.0, 1.0, 1.0, 1.0, 1.0, 1.0, 0.0, ...        957  2022   \n1984  [1.0, 1.0, 1.0, 0.0, 0.0, 0.0, 0.0, 0.0, 0.0, ...        957  2022   \n1985  [1.0, 1.0, 1.0, 1.0, 0.0, 0.0, 0.0, 0.0, 0.0, ...        957  2022   \n1986  [1.0, 1.0, 1.0, 1.0, 1.0, 0.0, 0.0, 0.0, 0.0, ...        957  2022   \n1987  [1.0, 1.0, 1.0, 1.0, 1.0, 0.0, 0.0, 0.0, 0.0, ...        957  2022   \n\n      month  day  motif  times   name  \\\n0         4   18     紙箱      1  井原亜利紗   \n1         4   18     紙箱      1  井原亜利紗   \n2         4   18     紙箱      1  井原亜利紗   \n3         4   18     紙箱      1  井原亜利紗   \n4         4   18     紙箱      1  井原亜利紗   \n...     ...  ...    ...    ...    ...   \n1983      6   13     紙箱      3  saito   \n1984      6   13     紙箱      3  saito   \n1985      6   13     紙箱      3  saito   \n1986      6   13     紙箱      3  saito   \n1987      6   13     紙箱      3  saito   \n\n                                                cos_sim  \n0     [1.0, 1.0, 1.0, 1.0, 0.9999999999999998, 1.0, ...  \n1     [1.0, 0.9927337820337144, -0.5144957554275599,...  \n2     [1.0, 0.9991680531005747, 0.9999999999999999, ...  \n3     [1.0, 1.0000000000000002, 1.0, 1.0, 0.99999999...  \n4     [1.0, 1.0, 1.0, 1.0, 1.0, 1.0, 1.0, 1.0, 1.0, ...  \n...                                                 ...  \n1983  [0.9999999999999999, 1.0, 1.0, 1.0, 1.0, 0.999...  \n1984  [0.9999999999999999, 1.0000000000000002, 1.0, ...  \n1985  [1.0, 1.0, 1.0, 1.0, 0.9999999999999999, 0.999...  \n1986  [1.0, 1.0, 1.0, 1.0000000000000002, 1.00000000...  \n1987  [1.0, 1.0, 0.9999999999999999, 1.0, 1.0, 1.0, ...  \n\n[23535 rows x 22 columns]\n  • training=None\n  • mask=None"
     ]
    }
   ],
   "source": [
    "encoded_data = autoencoder.encoder(test_data).numpy()\n",
    "decoded_data = autoencoder.decoder(encoded_data).numpy()\n",
    "\n",
    "plt.plot(test_data[10], 'b')\n",
    "plt.plot(decoded_data[10], 'r')\n",
    "plt.fill_between(np.arange(INPUT_SIZE), decoded_data[0], test_data[0], color='lightcoral')\n",
    "plt.legend(labels=[\"Input\", \"Reconstruction\", \"Error\"])\n",
    "plt.show()"
   ]
  },
  {
   "cell_type": "code",
   "execution_count": null,
   "metadata": {},
   "outputs": [],
   "source": []
  }
 ],
 "metadata": {
  "kernelspec": {
   "display_name": ".venv",
   "language": "python",
   "name": "python3"
  },
  "language_info": {
   "codemirror_mode": {
    "name": "ipython",
    "version": 3
   },
   "file_extension": ".py",
   "mimetype": "text/x-python",
   "name": "python",
   "nbconvert_exporter": "python",
   "pygments_lexer": "ipython3",
   "version": "3.10.8"
  }
 },
 "nbformat": 4,
 "nbformat_minor": 2
}
