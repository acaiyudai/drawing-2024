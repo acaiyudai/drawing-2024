{
 "cells": [
  {
   "cell_type": "markdown",
   "metadata": {},
   "source": [
    "### 2024/02/20 座標数の外れ値を解析"
   ]
  },
  {
   "cell_type": "code",
   "execution_count": 1,
   "metadata": {},
   "outputs": [],
   "source": [
    "import pandas as pd\n",
    "import numpy as np\n",
    "import requests\n",
    "import io\n",
    "import math\n",
    "import copy\n",
    "import matplotlib as mpl\n",
    "import matplotlib.pyplot as plt\n",
    "from matplotlib import patches"
   ]
  },
  {
   "cell_type": "code",
   "execution_count": 2,
   "metadata": {},
   "outputs": [],
   "source": [
    "drawing_info = pd.read_excel('../data/all_drawing_info.xlsx', index_col=0)"
   ]
  },
  {
   "cell_type": "code",
   "execution_count": 3,
   "metadata": {},
   "outputs": [],
   "source": [
    "# 箱ひげ図を作成する\n",
    "def boxviolinplot(plot_list, label, ymin, ymax):\n",
    "    title = ''\n",
    "    plt.rcParams['font.family'] = 'MS Gothic'\n",
    "    FIG_WIDTH = 15\n",
    "    FIG_HEIGHT = 7\n",
    "    fig, ax = plt.subplots(figsize=(FIG_WIDTH, FIG_HEIGHT), facecolor='white')\n",
    "    ax.set_ylim(ymin, ymax)\n",
    "    ax.grid(True)\n",
    "    ax.set_xticklabels(label)\n",
    "\n",
    "    ax.set_title(title)\n",
    "    \n",
    "    # ax.boxplot(plot_list, whis=(0, 100))\n",
    "    # ax.boxplot(plot_list, whis=(5, 95))\n",
    "    \n",
    "    ax.boxplot(plot_list, whis=1.5)\n",
    "    \n",
    "    # ax.violinplot(plot_list)\n",
    "    \n",
    "    plt.show()\n",
    "    plt.close()\n",
    "    return"
   ]
  },
  {
   "cell_type": "code",
   "execution_count": 4,
   "metadata": {},
   "outputs": [],
   "source": [
    "coord_size = pd.read_csv('../temp/coord_size_alldrawing.csv', index_col=0)"
   ]
  },
  {
   "cell_type": "code",
   "execution_count": 5,
   "metadata": {},
   "outputs": [],
   "source": [
    "coord_size_each = pd.read_pickle('../temp/20240216_coordsize.pkl')"
   ]
  },
  {
   "cell_type": "markdown",
   "metadata": {},
   "source": [
    "##### ▶重複なし座標数 全体の分布"
   ]
  },
  {
   "cell_type": "markdown",
   "metadata": {},
   "source": [
    "##### ▶極端な外れ値の線を見てみる"
   ]
  },
  {
   "cell_type": "code",
   "execution_count": 6,
   "metadata": {},
   "outputs": [
    {
     "name": "stdout",
     "output_type": "stream",
     "text": [
      "トリム1% 最大値： 83\n"
     ]
    }
   ],
   "source": [
    "sorted_coord_size = sorted(coord_size['coord_sizes_remove_overlap'].to_list(), reverse=True)\n",
    "percent_len = int(len(sorted_coord_size) /100 * 1)\n",
    "coord_size_trim1per = sorted_coord_size[percent_len:-percent_len]\n",
    "\n",
    "max_trim1per = max(coord_size_trim1per)\n",
    "\n",
    "print('トリム1% 最大値：', max_trim1per)"
   ]
  },
  {
   "cell_type": "markdown",
   "metadata": {},
   "source": [
    "##### ▶座標数が1000を超えるストロークを描画"
   ]
  },
  {
   "cell_type": "code",
   "execution_count": 13,
   "metadata": {},
   "outputs": [],
   "source": [
    "# URLを指定したドローイングの、指定した順番のストロークの形状を描画する関数\n",
    "def draw_stroke(url, rotate_type, drawing_id, stroke_id, path):\n",
    "    class PreprocessedData():\n",
    "        def __init__(self, url, rotate_type):\n",
    "            self.CANVAS_HEIGHT = 297\n",
    "            self.CANVAS_WIDTH = 420\n",
    "            self.MAX_POINT = 943\n",
    "            self.NORM_DIVISOR = 3\n",
    "            self.columns = [ 'time', 'alpha', 'max_points', 'ptx_anoto', 'pty_anoto', 'shape_str',\n",
    "                        'pressure_style', 'len_mm_acc', 'len_anoto', 'pressure_avg', 'shape_int']\n",
    "            self.BIN_HEIGHT = 420\n",
    "            self.BIN_WIDTH = 420\n",
    "            \n",
    "            self.df_org = None\n",
    "            self.df_mm = None\n",
    "            self.df_remove_overlap = None\n",
    "            \n",
    "            self.url = url\n",
    "            self.rotate_type = rotate_type\n",
    "            \n",
    "            # urlからデータを作成\n",
    "            self.get_df(self.url)\n",
    "            self.conv_str_to_coord()\n",
    "\n",
    "            self.remove_overlap_coord()\n",
    "            ################################\n",
    "            \n",
    "        # URLからデータフレームを取得 & ストローク長の列を追加\n",
    "        def get_df(self, url):\n",
    "            content = requests.get(url, auth=('19t2003a', 'ireneRED77')).content\n",
    "            df = pd.read_table(io.StringIO(content.decode('utf-8')), header = None)\n",
    "            df.columns = self.columns\n",
    "            st_len_mm = [l*0.3 for l in df['len_anoto']]\n",
    "            df['len_mm'] = st_len_mm\n",
    "            # ストローク固有のidを付与\n",
    "            df_reindex = df.reset_index()\n",
    "            df_reindex = df_reindex.rename(columns={'index': 'stroke_id'})\n",
    "            \n",
    "            self.df_org = df_reindex.copy()\n",
    "            \n",
    "        # 文字列座標データをリストに変換 & anotoから普通座標に変換\n",
    "        def conv_str_to_coord(self):\n",
    "            df = self.df_org.copy()\n",
    "            x_list = []\n",
    "            y_list = []\n",
    "            for str_x, str_y in zip(df['ptx_anoto'], df['pty_anoto']):\n",
    "                x_list.append([float(x)*0.3 for x in str_x.split(',')])\n",
    "                y_list.append([float(y)*0.3 for y in str_y.split(',')])\n",
    "            df['ptx_mm'] = x_list\n",
    "            df['pty_mm'] = y_list\n",
    "            self.df_mm = df\n",
    "        \n",
    "        # 重複している座標を排除\n",
    "        def remove_overlap_coord(self):\n",
    "            df = self.df_mm.copy()\n",
    "            \n",
    "            org_ptxs = df['ptx_mm']\n",
    "            org_ptys = df['pty_mm']\n",
    "            remove_indexs = []\n",
    "            for ptxs, ptys in zip(org_ptxs, org_ptys):\n",
    "                remove_index = []\n",
    "                for i in range(1, len(ptxs)):\n",
    "                    if ptxs[i] == ptxs[i-1] and ptys[i] == ptys[i-1]:\n",
    "                        remove_index.append(i)\n",
    "                    else:\n",
    "                        pass\n",
    "                remove_indexs.append(remove_index)\n",
    "            \n",
    "            df['remove_index'] = remove_indexs\n",
    "            \n",
    "            remove_overlap_ptxs = []\n",
    "            remove_overlap_ptys = []\n",
    "            for ptxs, ptys, remove_index in zip(org_ptxs, org_ptys, df['remove_index']):\n",
    "                remove_overlap_ptx = [ ptxs[i] for i in range(len(ptxs)) if i not in remove_index]\n",
    "                remove_overlap_pty = [ ptys[i] for i in range(len(ptys)) if i not in remove_index]\n",
    "                remove_overlap_ptxs.append(remove_overlap_ptx)\n",
    "                remove_overlap_ptys.append(remove_overlap_pty)    \n",
    "            \n",
    "            df['ptx_mm'] = remove_overlap_ptxs\n",
    "            df['pty_mm'] = remove_overlap_ptys\n",
    "            \n",
    "            self.df_remove_overlap = df\n",
    "\n",
    "    # --- グラフ描画 ---#\n",
    "    data = PreprocessedData(url, rotate_type)\n",
    "    df = data.df_remove_overlap\n",
    "    \n",
    "    STROKE_COLOR = 'black'\n",
    "    STROKE_WIDTH = 1\n",
    "    FIG_WIDTH = 10\n",
    "    FIG_HEIGHT = 10\n",
    "    \n",
    "    \n",
    "    plt.rcParams['font.family'] = 'MS Gothic'\n",
    "    fig, ax = plt.subplots(figsize=(FIG_WIDTH, FIG_HEIGHT), facecolor='white')\n",
    "    \n",
    "    x = df.query('stroke_id == @stroke_id')['ptx_mm'].iloc[-1]\n",
    "    y = df.query('stroke_id == @stroke_id')['pty_mm'].iloc[-1]\n",
    "    \n",
    "    ax.plot(x, y, color=STROKE_COLOR, linewidth=STROKE_WIDTH)\n",
    "    ax.scatter(x, y, color=STROKE_COLOR, marker='.')\n",
    "    \n",
    "    title = f'{drawing_id}_{stroke_id}_coordsize-{len(x)}'\n",
    "    ax.set_title(title)\n",
    "    # plt.savefig(f'{path}/{drawing_id}_{stroke_id}.png')\n",
    "    plt.show()\n",
    "    plt.close()\n",
    "    return"
   ]
  },
  {
   "cell_type": "code",
   "execution_count": 15,
   "metadata": {},
   "outputs": [],
   "source": [
    "# drawing_id_outlier = []\n",
    "# stroke_id_outlier = []\n",
    "\n",
    "# for drawing_id, csizes in zip(coord_size_each['drawing_id'], coord_size_each['coordsize_rm_overlap']):\n",
    "#     for i, csize in enumerate(csizes):\n",
    "#         if 50 < csize and csize <= 100:\n",
    "#             drawing_id_outlier.append(drawing_id)\n",
    "#             stroke_id_outlier.append(i)\n",
    "\n",
    "# for did, sid in zip(drawing_id_outlier[:50], stroke_id_outlier[:50]):\n",
    "#     url = drawing_info.query('drawing_id == @did')['url'].iloc[-1]\n",
    "#     rotate_type = drawing_info.query('drawing_id == @did')['rotate_type'].iloc[-1]\n",
    "#     draw_stroke(url, rotate_type, did, sid, '../temp/20240229_coordsize_50-100')\n",
    "#     print(did, sid)"
   ]
  },
  {
   "cell_type": "code",
   "execution_count": 81,
   "metadata": {},
   "outputs": [],
   "source": [
    "# for did, sid in zip(drawing_id_outlier, stroke_id_outlier):\n",
    "#     url = drawing_info.query('drawing_id == @did')['url'].iloc[-1]\n",
    "#     rotate_type = drawing_info.query('drawing_id == @did')['rotate_type'].iloc[-1]\n",
    "#     draw_stroke(url, rotate_type, did, sid)\n",
    "#     print(did, sid)"
   ]
  },
  {
   "cell_type": "markdown",
   "metadata": {},
   "source": [
    "##### ▶座標数の最頻値は 6"
   ]
  },
  {
   "cell_type": "code",
   "execution_count": 95,
   "metadata": {},
   "outputs": [
    {
     "name": "stderr",
     "output_type": "stream",
     "text": [
      "C:\\Users\\ispec\\AppData\\Local\\Temp\\ipykernel_9796\\3938143907.py:2: FutureWarning: Unlike other reduction functions (e.g. `skew`, `kurtosis`), the default behavior of `mode` typically preserves the axis it acts along. In SciPy 1.11.0, this behavior will change: the default value of `keepdims` will become False, the `axis` over which the statistic is taken will be eliminated, and the value None will no longer be accepted. Set `keepdims` to True or False to avoid this warning.\n",
      "  mode = stats.mode(coord_size['coord_sizes_remove_overlap'].to_list())\n"
     ]
    },
    {
     "data": {
      "text/plain": [
       "ModeResult(mode=array([6]), count=array([254186]))"
      ]
     },
     "execution_count": 95,
     "metadata": {},
     "output_type": "execute_result"
    }
   ],
   "source": [
    "from scipy import  stats\n",
    "mode = stats.mode(coord_size['coord_sizes_remove_overlap'].to_list())\n",
    "# coord_size.describe()\n",
    "mode"
   ]
  },
  {
   "cell_type": "markdown",
   "metadata": {},
   "source": [
    "##### ▶対数変換してみる"
   ]
  },
  {
   "cell_type": "code",
   "execution_count": 133,
   "metadata": {},
   "outputs": [
    {
     "name": "stdout",
     "output_type": "stream",
     "text": [
      "下側 : 0.5929253245799998\n",
      "上側 : 72.24370324363558\n"
     ]
    },
    {
     "data": {
      "image/png": "[encoded data removed]",
      "text/plain": [
       "<Figure size 640x480 with 1 Axes>"
      ]
     },
     "metadata": {},
     "output_type": "display_data"
    }
   ],
   "source": [
    "log_csize = [math.log10(csize)for csize in coord_size['coord_sizes_remove_overlap'].to_list()]\n",
    "log_mean = round(sum(log_csize) / len(log_csize), 4)\n",
    "log_std = stats.tstd(log_csize, ddof=0)\n",
    "\n",
    "log_mean3std = [csize for csize in log_csize if (csize <= log_mean + 3 * log_std)]\n",
    "\n",
    "# boxviolinplot(log_mean3std, '', 0, 4)\n",
    "plt.hist(log_csize, bins=200)\n",
    "\n",
    "print(f'下側 : {10 ** (round(log_mean - 3 * log_std, 4))}')\n",
    "print(f'上側 : {10 ** (round(log_mean + 3 * log_std, 4))}')"
   ]
  },
  {
   "cell_type": "markdown",
   "metadata": {},
   "source": [
    "##### ▶対数変換 + mean3stdの結果、「72」を座標数の最大値とする"
   ]
  },
  {
   "cell_type": "markdown",
   "metadata": {},
   "source": [
    "##### ▶描画者ごとの座標数の調査"
   ]
  },
  {
   "cell_type": "code",
   "execution_count": null,
   "metadata": {},
   "outputs": [],
   "source": [
    "coord_size_each = pd.read_pickle('../temp/20240216_coordsize.pkl')"
   ]
  },
  {
   "cell_type": "markdown",
   "metadata": {},
   "source": [
    "### 2024/03/04 座標数とストロークの長さの相関を調査"
   ]
  },
  {
   "cell_type": "markdown",
   "metadata": {},
   "source": [
    "##### ▶相関なし!"
   ]
  },
  {
   "cell_type": "code",
   "execution_count": 1,
   "metadata": {},
   "outputs": [],
   "source": [
    "import pandas as pd\n",
    "import numpy as np\n",
    "import requests\n",
    "import io\n",
    "import math\n",
    "import copy\n",
    "import matplotlib as mpl\n",
    "import matplotlib.pyplot as plt\n",
    "from matplotlib import patches"
   ]
  },
  {
   "cell_type": "code",
   "execution_count": 29,
   "metadata": {},
   "outputs": [],
   "source": [
    "df_csize_len = pd.read_csv('../temp/20240305coordsize_length_alldrawing.csv', index_col=0).query('coord_sizes_remove_overlap <= 100')"
   ]
  },
  {
   "cell_type": "code",
   "execution_count": 16,
   "metadata": {},
   "outputs": [],
   "source": [
    "# FIG_WIDTH = 10\n",
    "# FIG_HEIGHT = 10\n",
    "# fig, ax = plt.subplots(figsize=(FIG_WIDTH, FIG_HEIGHT), facecolor='white')\n",
    "# ax.scatter(df_csize_len['coord_sizes_remove_overlap'], df_csize_len['length_mm'], marker='.', color='green')"
   ]
  },
  {
   "cell_type": "markdown",
   "metadata": {},
   "source": [
    "##### ▶座標数のヒストグラム"
   ]
  },
  {
   "cell_type": "code",
   "execution_count": 35,
   "metadata": {},
   "outputs": [
    {
     "data": {
      "text/plain": [
       "(array([1.31866e+05, 1.24276e+05, 1.53946e+05, 2.11793e+05, 2.54186e+05,\n",
       "        2.49129e+05, 2.06500e+05, 1.53453e+05, 1.06062e+05, 7.10830e+04,\n",
       "        4.75840e+04, 3.26970e+04, 2.38920e+04, 1.89650e+04, 1.55180e+04,\n",
       "        1.32360e+04, 1.18180e+04, 1.00970e+04, 8.89400e+03, 7.70700e+03,\n",
       "        7.12700e+03, 6.38400e+03, 5.61700e+03, 5.10300e+03, 4.82600e+03,\n",
       "        4.29200e+03, 3.89400e+03, 3.59300e+03, 3.32900e+03, 3.12700e+03,\n",
       "        2.84500e+03, 2.59500e+03, 2.47600e+03, 2.43000e+03, 2.29800e+03,\n",
       "        2.06600e+03, 1.97100e+03, 1.80300e+03, 1.74600e+03, 1.66100e+03,\n",
       "        1.53800e+03, 1.50600e+03, 1.38500e+03, 1.33400e+03, 1.24200e+03,\n",
       "        1.21400e+03, 1.14000e+03, 1.10000e+03, 1.05300e+03, 0.00000e+00,\n",
       "        9.04000e+02, 9.74000e+02, 9.44000e+02, 9.01000e+02, 8.61000e+02,\n",
       "        7.84000e+02, 7.90000e+02, 7.47000e+02, 6.79000e+02, 7.59000e+02,\n",
       "        6.69000e+02, 6.85000e+02, 6.07000e+02, 5.90000e+02, 5.80000e+02,\n",
       "        5.77000e+02, 5.50000e+02, 5.62000e+02, 5.30000e+02, 5.23000e+02,\n",
       "        4.66000e+02, 4.93000e+02, 4.73000e+02, 4.46000e+02, 4.12000e+02,\n",
       "        4.01000e+02, 4.09000e+02, 3.83000e+02, 4.07000e+02, 3.63000e+02,\n",
       "        3.60000e+02, 3.83000e+02, 3.68000e+02, 3.58000e+02, 3.37000e+02,\n",
       "        3.02000e+02, 3.14000e+02, 2.74000e+02, 3.04000e+02, 2.83000e+02,\n",
       "        2.77000e+02, 2.86000e+02, 2.46000e+02, 2.77000e+02, 2.45000e+02,\n",
       "        2.56000e+02, 2.42000e+02, 2.62000e+02, 2.37000e+02, 2.73000e+02]),\n",
       " array([  2.  ,   2.98,   3.96,   4.94,   5.92,   6.9 ,   7.88,   8.86,\n",
       "          9.84,  10.82,  11.8 ,  12.78,  13.76,  14.74,  15.72,  16.7 ,\n",
       "         17.68,  18.66,  19.64,  20.62,  21.6 ,  22.58,  23.56,  24.54,\n",
       "         25.52,  26.5 ,  27.48,  28.46,  29.44,  30.42,  31.4 ,  32.38,\n",
       "         33.36,  34.34,  35.32,  36.3 ,  37.28,  38.26,  39.24,  40.22,\n",
       "         41.2 ,  42.18,  43.16,  44.14,  45.12,  46.1 ,  47.08,  48.06,\n",
       "         49.04,  50.02,  51.  ,  51.98,  52.96,  53.94,  54.92,  55.9 ,\n",
       "         56.88,  57.86,  58.84,  59.82,  60.8 ,  61.78,  62.76,  63.74,\n",
       "         64.72,  65.7 ,  66.68,  67.66,  68.64,  69.62,  70.6 ,  71.58,\n",
       "         72.56,  73.54,  74.52,  75.5 ,  76.48,  77.46,  78.44,  79.42,\n",
       "         80.4 ,  81.38,  82.36,  83.34,  84.32,  85.3 ,  86.28,  87.26,\n",
       "         88.24,  89.22,  90.2 ,  91.18,  92.16,  93.14,  94.12,  95.1 ,\n",
       "         96.08,  97.06,  98.04,  99.02, 100.  ]),\n",
       " <BarContainer object of 100 artists>)"
      ]
     },
     "execution_count": 35,
     "metadata": {},
     "output_type": "execute_result"
    },
    {
     "data": {
      "image/png": "[encoded data removed]",
      "text/plain": [
       "<Figure size 640x480 with 1 Axes>"
      ]
     },
     "metadata": {},
     "output_type": "display_data"
    }
   ],
   "source": [
    "min_size = 2\n",
    "max_size = 100\n",
    "plt.hist([val for val in coord_size['coord_sizes_remove_overlap'] if val <= max_size and val >= min_size], bins=100)"
   ]
  },
  {
   "cell_type": "code",
   "execution_count": 20,
   "metadata": {},
   "outputs": [
    {
     "data": {
      "image/png": "[encoded data removed]",
      "text/plain": [
       "<Figure size 1500x700 with 1 Axes>"
      ]
     },
     "metadata": {},
     "output_type": "display_data"
    }
   ],
   "source": [
    "boxviolinplot(coord_size['coord_sizes_remove_overlap'], '', 0, 83)"
   ]
  },
  {
   "cell_type": "code",
   "execution_count": null,
   "metadata": {},
   "outputs": [],
   "source": []
  }
 ],
 "metadata": {
  "kernelspec": {
   "display_name": ".venv",
   "language": "python",
   "name": "python3"
  },
  "language_info": {
   "codemirror_mode": {
    "name": "ipython",
    "version": 3
   },
   "file_extension": ".py",
   "mimetype": "text/x-python",
   "name": "python",
   "nbconvert_exporter": "python",
   "pygments_lexer": "ipython3",
   "version": "3.10.8"
  }
 },
 "nbformat": 4,
 "nbformat_minor": 2
}
