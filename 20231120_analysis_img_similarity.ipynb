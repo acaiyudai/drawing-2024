{
 "cells": [
  {
   "cell_type": "markdown",
   "metadata": {},
   "source": [
    "#### 2023/11/20 画像の類似度を判定するプログラム"
   ]
  },
  {
   "cell_type": "code",
   "execution_count": 1,
   "metadata": {},
   "outputs": [],
   "source": [
    "import cv2\n",
    "import pandas as pd\n",
    "import glob\n",
    "import requests\n",
    "import numpy as np"
   ]
  },
  {
   "cell_type": "code",
   "execution_count": 4,
   "metadata": {},
   "outputs": [],
   "source": [
    "asai_target_info = pd.read_excel('../data/asai_target_info.xlsx', index_col=0)"
   ]
  },
  {
   "cell_type": "code",
   "execution_count": 5,
   "metadata": {},
   "outputs": [],
   "source": [
    "# 浅井のプログラムで作成したグラフを保存\n",
    "# ストロークの太さは 5, 6, 7px あたりがよさそう\n",
    "# from preprocess_data_over943_plusinfo import PreprocessDataOver943PlusInfo\n",
    "\n",
    "# folder_name_plot_rotate = '../temp/20231120_drawingimg_plot_rotate_large_6px'\n",
    "\n",
    "# drawing_id_start = len(asai_target_info) - 1\n",
    "# drawing_id_end = len(asai_target_info)\n",
    "# df_info_year = asai_target_info[drawing_id_start:drawing_id_end]\n",
    "\n",
    "# for url, rotate_type, drawing_id in zip(df_info_year['url'], df_info_year['rotate_type'], df_info_year['drawing_id']):\n",
    "#     data = PreprocessDataOver943PlusInfo(url, rotate_type)\n",
    "#     file_name = f'{folder_name_plot_rotate}/drawing_id_{drawing_id}.jpg'\n",
    "#     data.draw_allstroke(file_name, 6)\n",
    "#     print(file_name)"
   ]
  },
  {
   "cell_type": "markdown",
   "metadata": {},
   "source": [
    "##### ▶ビューワのオリジナルサイズの画像を保存"
   ]
  },
  {
   "cell_type": "code",
   "execution_count": 6,
   "metadata": {},
   "outputs": [],
   "source": [
    "# ビューワ上にある各ドローイング画像のURLから取ってきた画像を保存(もとの大きさ)\n",
    "# folder_name_viewer_notrotate_original = '20231120_drawingimg_viewer_notrotate_original'\n",
    "\n",
    "# for img_url, drawing_id in zip(asai_target_info['img_url'], asai_target_info['drawing_id']):\n",
    "#     # img_urlから、@@images以下を削除して、「@@images/thumbnail」をくっつける\n",
    "#     slice = img_url.find('@@images')\n",
    "#     stroke_info_url = img_url[:slice]\n",
    "#     org_img_url = stroke_info_url + '@@images/thumbnail'\n",
    "#     response = requests.get(org_img_url, auth=('19t2003a', 'ireneRED77'))\n",
    "#     content = response.content    \n",
    "#     file_name = f'../temp/{folder_name_viewer_notrotate_original}/drawing_id_{drawing_id}.jpg'\n",
    "#     print(file_name)\n",
    "#     with open(file_name, 'wb') as f:\n",
    "#         f.write(content)"
   ]
  },
  {
   "cell_type": "markdown",
   "metadata": {},
   "source": [
    "##### ▶ビューワのオリジナルサイズの画像を回転させて保存"
   ]
  },
  {
   "cell_type": "code",
   "execution_count": 7,
   "metadata": {},
   "outputs": [],
   "source": [
    "# 画像を回転させる関数\n",
    "# def rotate_img(img, rotate_type):\n",
    "#     if rotate_type == 180:\n",
    "#         img_rotate = img\n",
    "#     elif rotate_type == 270:\n",
    "#         img_rotate = cv2.rotate(img, cv2.ROTATE_90_CLOCKWISE)\n",
    "#     elif rotate_type == 0:\n",
    "#         img_rotate = cv2.rotate(img, cv2.ROTATE_180)\n",
    "#     elif rotate_type == 90:\n",
    "#         img_rotate = cv2.rotate(img, cv2.ROTATE_90_COUNTERCLOCKWISE)\n",
    "#     return img_rotate\n",
    "\n",
    "# # ドローイングプロセスビューワでの画像を回転角分だけ回転させて保存する\n",
    "# folder_name_viewer_rotate_original = '20231120_drawingimg_viewer_rotate_inverse'\n",
    "\n",
    "# for drawing_id, rotate_type in zip(asai_target_info['drawing_id'], asai_target_info['rotate_type']):\n",
    "#     file_name = f'../temp/{folder_name_viewer_rotate_original}/drawing_id_{drawing_id}.jpg'\n",
    "#     img = cv2.imread(f'../temp/20231120_drawingimg_viewer_notrotate_original/drawing_id_{drawing_id}.jpg')\n",
    "#     img_rotate = rotate_img(img, rotate_type)\n",
    "#     cv2.imwrite(file_name, img_rotate)\n",
    "#     print(file_name)"
   ]
  },
  {
   "cell_type": "markdown",
   "metadata": {},
   "source": [
    "##### ▶matplotlibでの描画結果画像のサイズを直して保存"
   ]
  },
  {
   "cell_type": "code",
   "execution_count": 8,
   "metadata": {},
   "outputs": [],
   "source": [
    "# # matplotlibでの描画結果のサイズ\n",
    "# img_plot = cv2.imread(f'../temp/20231110_drawingimg_plot_rotate/drawing_id_{drawing_id}.jpg')\n",
    "# print('matplotlib: ', img_plot.shape)\n",
    "# # ビューワからのオリジナルサイズの画像のサイズ\n",
    "# img_viewer = cv2.imread(f'../temp/20231120_drawingimg_viewer_rotate_original/drawing_id_{drawing_id}.jpg')\n",
    "# print('viewer    :', img_viewer.shape)"
   ]
  },
  {
   "cell_type": "markdown",
   "metadata": {},
   "source": [
    "##### ▶画像の類似度の判定"
   ]
  },
  {
   "cell_type": "code",
   "execution_count": 6,
   "metadata": {},
   "outputs": [],
   "source": [
    "# import imgsim\n",
    "# df_asai_target = pd.read_excel('../data/asai_target_info.xlsx', index_col=0)\n",
    "# vtr = imgsim.Vectorizer()\n",
    "# img_similarity = []\n",
    "\n",
    "# for drawing_id in df_asai_target['drawing_id']:\n",
    "#     file_name_plot = f'../temp/20231120_drawingimg_plot_rotate_large_6px/drawing_id_{drawing_id}.jpg'\n",
    "#     file_name_viewer = f'../temp/20231120_drawingimg_viewer_rotate_original/drawing_id_{drawing_id}.jpg'\n",
    "\n",
    "\n",
    "#     img_plot = cv2.imread(file_name_plot)\n",
    "#     img_viewer = cv2.imread(file_name_viewer)\n",
    "    \n",
    "#     ret, img_plot_bin = cv2.threshold(img_plot, 0, 255, cv2.THRESH_BINARY)\n",
    "#     ret, img_viewer_bin = cv2.threshold(img_viewer, 0, 255, cv2.THRESH_BINARY)\n",
    "    \n",
    "#     img_plot_vec = vtr.vectorize(img_plot)\n",
    "#     img_viewer_vec = vtr.vectorize(img_viewer)\n",
    "    \n",
    "#     dist = imgsim.distance(img_plot_vec, img_viewer_vec)\n",
    "#     img_similarity.append(dist)\n",
    "#     print(drawing_id)\n",
    "\n",
    "# df_similarity = pd.DataFrame({'drawing_id': df_asai_target['drawing_id'][:50],\n",
    "#                               'img_similarity': img_similarity})\n"
   ]
  },
  {
   "cell_type": "code",
   "execution_count": 15,
   "metadata": {},
   "outputs": [],
   "source": [
    "# df_similarity.to_excel('../temp/img_similarity_plot6px_vs_viewerorg_bin100.xlsx')"
   ]
  },
  {
   "cell_type": "code",
   "execution_count": 11,
   "metadata": {},
   "outputs": [],
   "source": [
    "df_asai_target = pd.read_excel('../data/asai_target_info.xlsx', index_col=0)\n",
    "img_similarity = []\n",
    "\n",
    "for drawing_id in df_asai_target['drawing_id']:\n",
    "\n",
    "    file_name_plot = f'../temp/20231120_drawingimg_plot_rotate_large_6px/drawing_id_{drawing_id}.jpg'\n",
    "    file_name_viewer = f'../temp/20231120_drawingimg_viewer_rotate_original/drawing_id_{drawing_id}.jpg'\n",
    "    img_plot = cv2.imread(file_name_plot)\n",
    "    img_viewer = cv2.imread(file_name_viewer)\n",
    "    ret, img_plot_bin = cv2.threshold(img_plot, 250, 255, cv2.THRESH_BINARY)\n",
    "    ret, img_viewer_bin = cv2.threshold(img_viewer, 250, 255, cv2.THRESH_BINARY)\n",
    "    # cv2.imshow('image', img_viewer_bin)\n",
    "    # cv2.waitKey()\n",
    "    \n",
    "    same_px_cnt = np.count_nonzero(img_plot_bin == img_viewer_bin) // 3\n",
    "    print(same_px_cnt)\n",
    "    img_similarity.append(same_px_cnt)\n",
    "\n",
    "df_similarity = pd.DataFrame({'drawing_id': df_asai_target['drawing_id'],\n",
    "                              ''\n",
    "                              'img_similarity': img_similarity})\n",
    "df_similarity.to_excel('../temp/imgsimilarity_binalize250.xlsx')"
   ]
  },
  {
   "cell_type": "code",
   "execution_count": null,
   "metadata": {},
   "outputs": [],
   "source": [
    "# 1400 × 990 = 1,386,000"
   ]
  },
  {
   "cell_type": "markdown",
   "metadata": {},
   "source": [
    "##### 高さ：990 幅：1400 色：3"
   ]
  },
  {
   "cell_type": "code",
   "execution_count": 35,
   "metadata": {},
   "outputs": [
    {
     "name": "stdout",
     "output_type": "stream",
     "text": [
      "(990, 3)\n",
      "(1400, 3)\n"
     ]
    }
   ],
   "source": [
    "drawing_id = 0\n",
    "file_name_plot = f'../temp/20231120_drawingimg_viewer_rotate_original/drawing_id_{drawing_id}.jpg'\n",
    "img_plot = cv2.imread(file_name_plot)\n",
    "ret, img_plot_bin = cv2.threshold(img_plot, 100, 255, cv2.THRESH_BINARY)\n",
    "# cv2.imshow('image', img_plot_bin)\n",
    "# cv2.waitKey()\n",
    "\n",
    "print(img_plot[:, 0].shape) # 0列目を取り出す\n",
    "print(img_plot[0, :].shape) # 0行目を取り出す"
   ]
  },
  {
   "cell_type": "markdown",
   "metadata": {},
   "source": [
    "##### ▶マス目一つ一つの輝度(R, G, B)の値がどれか一つでも255未満なら、そのマス目を1にする"
   ]
  },
  {
   "cell_type": "code",
   "execution_count": 61,
   "metadata": {},
   "outputs": [
    {
     "data": {
      "text/plain": [
       "-1"
      ]
     },
     "execution_count": 61,
     "metadata": {},
     "output_type": "execute_result"
    }
   ],
   "source": [
    "black_canvas = np.zeros((990, 1400))\n",
    "\n",
    "for x, row in enumerate(img_plot):\n",
    "    for y, cell in enumerate(row):\n",
    "        if cell[0] == 255 and cell[1] == 255 and cell[2] == 255:\n",
    "            black_canvas[x, y] = 255\n",
    "        else:\n",
    "            black_canvas[x, y] = 0\n",
    "            \n",
    "cv2.imshow('image', black_canvas)\n",
    "cv2.waitKey()"
   ]
  },
  {
   "cell_type": "code",
   "execution_count": 15,
   "metadata": {},
   "outputs": [
    {
     "name": "stdout",
     "output_type": "stream",
     "text": [
      "888822\n",
      "975804\n",
      "1290670\n",
      "1035706\n",
      "1194361\n",
      "1117316\n",
      "1145376\n",
      "1151655\n",
      "1124557\n",
      "1251386\n",
      "804057\n",
      "1250774\n",
      "1239975\n",
      "1201701\n",
      "948555\n",
      "1195141\n",
      "1199849\n",
      "963384\n",
      "1206305\n",
      "1284665\n"
     ]
    },
    {
     "ename": "KeyboardInterrupt",
     "evalue": "",
     "output_type": "error",
     "traceback": [
      "\u001b[1;31m---------------------------------------------------------------------------\u001b[0m",
      "\u001b[1;31mKeyboardInterrupt\u001b[0m                         Traceback (most recent call last)",
      "Cell \u001b[1;32mIn[15], line 13\u001b[0m\n\u001b[0;32m     11\u001b[0m ret, img_viewer_bin \u001b[38;5;241m=\u001b[39m cv2\u001b[38;5;241m.\u001b[39mthreshold(img_viewer, \u001b[38;5;241m254\u001b[39m, \u001b[38;5;241m255\u001b[39m, cv2\u001b[38;5;241m.\u001b[39mTHRESH_BINARY)\n\u001b[0;32m     12\u001b[0m cv2\u001b[38;5;241m.\u001b[39mimshow(\u001b[38;5;124m'\u001b[39m\u001b[38;5;124mimage\u001b[39m\u001b[38;5;124m'\u001b[39m, img_plot_bin)\n\u001b[1;32m---> 13\u001b[0m \u001b[43mcv2\u001b[49m\u001b[38;5;241;43m.\u001b[39;49m\u001b[43mwaitKey\u001b[49m\u001b[43m(\u001b[49m\u001b[43m)\u001b[49m\n\u001b[0;32m     15\u001b[0m same_px_cnt \u001b[38;5;241m=\u001b[39m np\u001b[38;5;241m.\u001b[39mcount_nonzero(img_plot_bin \u001b[38;5;241m==\u001b[39m img_viewer_bin) \u001b[38;5;241m/\u001b[39m\u001b[38;5;241m/\u001b[39m \u001b[38;5;241m3\u001b[39m\n\u001b[0;32m     16\u001b[0m \u001b[38;5;28mprint\u001b[39m(same_px_cnt)\n",
      "\u001b[1;31mKeyboardInterrupt\u001b[0m: "
     ]
    }
   ],
   "source": [
    "df_asai_target = pd.read_excel('../data/asai_target_info.xlsx', index_col=0)\n",
    "same_px_cnts = []\n",
    "\n",
    "for drawing_id in df_asai_target['drawing_id']:\n",
    "\n",
    "    file_name_plot = f'../temp/20231120_drawingimg_viewer_rotate_original/drawing_id_{drawing_id}.jpg'\n",
    "    file_name_viewer = f'../temp/20231120_drawingimg_viewer_rotate_inverse/drawing_id_{drawing_id}.jpg'\n",
    "    img_plot = cv2.imread(file_name_plot)\n",
    "    img_viewer = cv2.imread(file_name_viewer)\n",
    "    ret, img_plot_bin = cv2.threshold(img_plot, 254, 255, cv2.THRESH_BINARY)\n",
    "    ret, img_viewer_bin = cv2.threshold(img_viewer, 254, 255, cv2.THRESH_BINARY)\n",
    "    cv2.imshow('image', img_plot_bin)\n",
    "    cv2.waitKey()\n",
    "    \n",
    "    same_px_cnt = np.count_nonzero(img_plot_bin == img_viewer_bin) // 3\n",
    "    print(same_px_cnt)\n",
    "    same_px_cnts.append(same_px_cnt)\n",
    "\n",
    "df_similarity = pd.DataFrame({'drawing_id': df_asai_target['drawing_id'],\n",
    "                              'rotate_type': df_asai_target['rotate_type'],\n",
    "                              'same_px_cnt': same_px_cnts\n",
    "                              })\n",
    "# df_similarity.to_excel('../temp/imgsimilarity_viewer_vs_viewerinverse.xlsx')"
   ]
  },
  {
   "cell_type": "markdown",
   "metadata": {},
   "source": [
    "##### ▶2値化ピクセル一致率の分布を調べる"
   ]
  },
  {
   "cell_type": "code",
   "execution_count": 30,
   "metadata": {},
   "outputs": [
    {
     "name": "stdout",
     "output_type": "stream",
     "text": [
      "samedegのp値:  2.5537333546107356e-14\n",
      "inverseのp値:  1.3115236470184755e-05\n",
      "MannwhitneyuResult(statistic=822448.0, pvalue=9.172931014445511e-282)\n"
     ]
    },
    {
     "data": {
      "image/png": "[encoded data removed]",
      "text/plain": [
       "<Figure size 640x480 with 1 Axes>"
      ]
     },
     "metadata": {},
     "output_type": "display_data"
    }
   ],
   "source": [
    "from scipy import stats\n",
    "import matplotlib.pyplot as plt\n",
    "\n",
    "df_samedeg = pd.read_excel('../temp/imgsimilarity_binalize250.xlsx', index_col=0)\n",
    "df_inverse = pd.read_excel('../temp/imgsimilarity_binalize250_inverse.xlsx', index_col=0)\n",
    "\n",
    "# ヒストグラム\n",
    "plt.hist(df_samedeg['same_px_cnt'])\n",
    "plt.hist(df_inverse['same_px_cnt'])\n",
    "\n",
    "# シャピロウィルク検定のp値\n",
    "p0 = stats.shapiro(df_samedeg['same_px_cnt'])[1]\n",
    "p1 = stats.shapiro(df_inverse['same_px_cnt'])[1]\n",
    "print('samedegのp値: ', p0)\n",
    "print('inverseのp値: ', p1)\n",
    "\n",
    "# マン・ホイットニーのU検定 => p<0.01 => 差がある\n",
    "result = stats.mannwhitneyu(df_samedeg['same_px_cnt'], df_inverse['same_px_cnt'], alternative='two-sided')\n",
    "print(result)"
   ]
  },
  {
   "cell_type": "markdown",
   "metadata": {},
   "source": [
    "##### ▶一致ピクセル数の差分を求める => すべてのドローイングにおいて本来の回転角のほうが一致ピクセル数が大きい"
   ]
  },
  {
   "cell_type": "code",
   "execution_count": 37,
   "metadata": {},
   "outputs": [
    {
     "name": "stdout",
     "output_type": "stream",
     "text": [
      "6825\n"
     ]
    },
    {
     "data": {
      "image/png": "[encoded data removed]",
      "text/plain": [
       "<Figure size 640x480 with 1 Axes>"
      ]
     },
     "metadata": {},
     "output_type": "display_data"
    }
   ],
   "source": [
    "same_px_cnt_sub = [same - inv for same, inv in zip(df_samedeg['same_px_cnt'], df_inverse['same_px_cnt'])]\n",
    "for item in same_px_cnt_sub:\n",
    "    if item < 0:\n",
    "        print(item)\n",
    "        \n",
    "plt.scatter(df_asai_target['drawing_id'], same_px_cnt_sub)\n",
    "\n",
    "print(min(same_px_cnt_sub))"
   ]
  },
  {
   "cell_type": "code",
   "execution_count": null,
   "metadata": {},
   "outputs": [],
   "source": []
  }
 ],
 "metadata": {
  "kernelspec": {
   "display_name": ".venv",
   "language": "python",
   "name": "python3"
  },
  "language_info": {
   "codemirror_mode": {
    "name": "ipython",
    "version": 3
   },
   "file_extension": ".py",
   "mimetype": "text/x-python",
   "name": "python",
   "nbconvert_exporter": "python",
   "pygments_lexer": "ipython3",
   "version": "3.10.8"
  }
 },
 "nbformat": 4,
 "nbformat_minor": 2
}
