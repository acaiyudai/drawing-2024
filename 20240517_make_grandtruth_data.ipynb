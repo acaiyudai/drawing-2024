{
 "cells": [
  {
   "cell_type": "markdown",
   "metadata": {},
   "source": [
    "### ▶齊藤先生の正解データを座標入りで保存（⇒../data/shape_grandtruth_data.pkl）"
   ]
  },
  {
   "cell_type": "markdown",
   "metadata": {},
   "source": [
    "##### ▶ライブラリ"
   ]
  },
  {
   "cell_type": "code",
   "execution_count": 1,
   "metadata": {},
   "outputs": [],
   "source": [
    "import pandas as pd\n",
    "import numpy as np\n",
    "import requests\n",
    "import io\n",
    "import math\n",
    "import copy\n",
    "from scipy.stats import gmean\n",
    "import matplotlib as mpl\n",
    "import matplotlib.pyplot as plt\n",
    "from matplotlib import patches\n",
    "from pipeline_functions import PipelineFunctions\n",
    "pf = PipelineFunctions()\n",
    "from view_functions import ViewFunctions\n",
    "vf = ViewFunctions()\n",
    "\n",
    "import umap\n",
    "from sklearn.manifold import TSNE\n",
    "import seaborn as sns\n",
    "palette = ['#CC521D', '#4F4AD7', '#39AE3D']"
   ]
  },
  {
   "cell_type": "markdown",
   "metadata": {},
   "source": [
    "##### ▶データを読み込む"
   ]
  },
  {
   "cell_type": "code",
   "execution_count": 2,
   "metadata": {},
   "outputs": [],
   "source": [
    "# 解析対象データ\n",
    "target_info = pd.read_excel('../data/all_drawing_info.xlsx', index_col=0).query('is_asai == 1')\n",
    "box_info = pd.read_excel('../data/all_drawing_info.xlsx', index_col=0).query('is_preanalysis_box == 1')\n",
    "bag_info = pd.read_excel('../data/all_drawing_info.xlsx', index_col=0).query('is_preanalysis_bag == 1')\n",
    "info = pd.concat([box_info, bag_info], axis=0)\n",
    "\n",
    "# 正解データ\n",
    "ground_truth = pd.read_excel('../data/shape_groundtruth_id.xlsx', index_col=0)\n",
    "gt_straight = ground_truth.query('shape == \"straight\"')\n",
    "gt_curve = ground_truth.query('shape == \"curve\"')\n",
    "gt_complex = ground_truth.query('shape == \"complex\"')"
   ]
  },
  {
   "cell_type": "code",
   "execution_count": 3,
   "metadata": {},
   "outputs": [],
   "source": [
    "drawing_ids = []\n",
    "rotate_types = []\n",
    "stroke_ids = []\n",
    "shapes = []\n",
    "rotated_xs = []\n",
    "rotated_ys = []\n",
    "normalized_xs = []\n",
    "normalized_ys = []\n",
    "\n",
    "for did in target_info['drawing_id']:\n",
    "    # 重複なし，回転済み，サイズ正規化済みのdfを取得\n",
    "    rotate_type = target_info.query('drawing_id == @did')['rotate_type'].iloc[0]\n",
    "    df = pf.get_normalized_data(f'../data/all_tsv/id_{did}.tsv', rotate_type)\n",
    "    \n",
    "    for sid, shape, rx, ry, nx, ny in zip(\n",
    "    df['stroke_id'], df['shape_int'], \n",
    "    df['rotated_x'], df['rotated_y'], \n",
    "    df['size_unified_x'], df['size_unified_y']\n",
    "    ):\n",
    "        drawing_ids.append(did)\n",
    "        rotate_types.append(rotate_type)\n",
    "        stroke_ids.append(sid)\n",
    "        shapes.append(shape)\n",
    "        rotated_xs.append(rx)\n",
    "        rotated_ys.append(ry)\n",
    "        normalized_xs.append(nx)\n",
    "        normalized_ys.append(ny)\n",
    "        \n",
    "coordsizes = [len(coord) for coord in rotated_xs]"
   ]
  },
  {
   "cell_type": "code",
   "execution_count": 4,
   "metadata": {},
   "outputs": [],
   "source": [
    "all_stroke = pd.DataFrame({\n",
    "    'drawing_id': drawing_ids,\n",
    "    'stroke_id': stroke_ids,\n",
    "    'shape_int': shapes,\n",
    "    'rotate_type': rotate_types,\n",
    "    'pt_cnt': coordsizes,\n",
    "    'rotated_x': rotated_xs,\n",
    "    'rotated_y':rotated_ys,\n",
    "    'normalized_x': normalized_xs,\n",
    "    'normalized_y': normalized_ys\n",
    "})"
   ]
  },
  {
   "cell_type": "code",
   "execution_count": 34,
   "metadata": {},
   "outputs": [],
   "source": [
    "straight = pd.concat([all_stroke.query('drawing_id == @did').query('stroke_id == @sid') for did, sid in zip(gt_straight['drawing_id'], gt_straight['stroke_id'])], axis=0)\n",
    "straight['saito_label'] = ['straight' for i in range(len(straight))]\n",
    "curve = pd.concat([all_stroke.query('drawing_id == @did').query('stroke_id == @sid') for did, sid in zip(gt_curve['drawing_id'], gt_curve['stroke_id'])], axis=0)\n",
    "curve['saito_label'] = ['curve' for i in range(len(curve))]\n",
    "complex = pd.concat([all_stroke.query('drawing_id == @did').query('stroke_id == @sid') for did, sid in zip(gt_complex['drawing_id'], gt_complex['stroke_id'])], axis=0)\n",
    "complex['saito_label'] = ['complex' for i in range(len(complex))]\n",
    "\n",
    "data = pd.concat([straight, curve, complex], axis=0)"
   ]
  },
  {
   "cell_type": "markdown",
   "metadata": {},
   "source": [
    "##### ▶2値のラベルを追加"
   ]
  },
  {
   "cell_type": "code",
   "execution_count": 35,
   "metadata": {},
   "outputs": [],
   "source": [
    "# 齊藤先生のラベル\n",
    "is_good_saito = []\n",
    "for label in data['saito_label']:\n",
    "    if label == 'straight' or label == 'curve':\n",
    "        is_good_saito.append(1)\n",
    "    else:\n",
    "        is_good_saito.append(0)\n",
    "data['is_good_saito'] = is_good_saito\n",
    "\n",
    "# 既存の線種判定のラベル\n",
    "is_good_rulebase = []\n",
    "for label in data['shape_int']:\n",
    "    if label <= 2:\n",
    "        is_good_rulebase.append(1)\n",
    "    else:\n",
    "        is_good_rulebase.append(0)\n",
    "data['is_good_rulebase'] = is_good_rulebase"
   ]
  },
  {
   "cell_type": "code",
   "execution_count": 42,
   "metadata": {},
   "outputs": [],
   "source": [
    "data.to_pickle('../data/shape_groudtruth_data.pkl')"
   ]
  },
  {
   "cell_type": "code",
   "execution_count": null,
   "metadata": {},
   "outputs": [],
   "source": []
  }
 ],
 "metadata": {
  "kernelspec": {
   "display_name": ".venv",
   "language": "python",
   "name": "python3"
  },
  "language_info": {
   "codemirror_mode": {
    "name": "ipython",
    "version": 3
   },
   "file_extension": ".py",
   "mimetype": "text/x-python",
   "name": "python",
   "nbconvert_exporter": "python",
   "pygments_lexer": "ipython3",
   "version": "3.10.8"
  }
 },
 "nbformat": 4,
 "nbformat_minor": 2
}
