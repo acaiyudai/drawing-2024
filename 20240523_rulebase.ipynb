{
 "cells": [
  {
   "cell_type": "code",
   "execution_count": 2,
   "metadata": {},
   "outputs": [],
   "source": [
    "import pandas as pd\n",
    "import numpy as np\n",
    "import requests\n",
    "import io\n",
    "import math\n",
    "import copy\n",
    "from scipy.stats import gmean\n",
    "import matplotlib as mpl\n",
    "import matplotlib.pyplot as plt\n",
    "from matplotlib import patches\n",
    "from pipeline_functions import PipelineFunctions\n",
    "pf = PipelineFunctions()\n",
    "from view_functions import ViewFunctions\n",
    "vf = ViewFunctions()\n",
    "\n",
    "import umap\n",
    "from sklearn.manifold import TSNE\n",
    "import seaborn as sns\n",
    "palette = ['#CC521D', '#4F4AD7', '#39AE3D']\n",
    "\n",
    "from sklearn.model_selection import StratifiedKFold\n",
    "from sklearn.preprocessing import MinMaxScaler\n",
    "from sklearn.metrics import classification_report, confusion_matrix\n",
    "from sklearn.metrics import recall_score\n",
    "from sklearn.metrics import precision_score\n",
    "from sklearn.metrics import f1_score\n",
    "from sklearn.metrics import accuracy_score\n",
    "from sklearn.model_selection import train_test_split"
   ]
  },
  {
   "cell_type": "code",
   "execution_count": 3,
   "metadata": {},
   "outputs": [
    {
     "name": "stdout",
     "output_type": "stream",
     "text": [
      "TP :  192\n",
      "TF :  102\n",
      "FP :  15\n",
      "FN :  1\n",
      "recall :  0.9948\n",
      "precision :  0.9275\n",
      "f_measure :  0.96\n"
     ]
    }
   ],
   "source": [
    "Y_COL = 'is_good_saito'\n",
    "TRAIN_TEST_SPLIT_SEED = 1\n",
    "\n",
    "data = pd.read_csv(f'../temp/eachpt_feature/1_3_org_coord.csv', delimiter=',', index_col=0)\n",
    "X = data.copy()\n",
    "y = data[Y_COL]\n",
    "# 学習データとテストデータを725:310に分割する\n",
    "train_valid, test, y_train_valid, y_test = train_test_split(X, y, train_size=725, shuffle=True, stratify=y, random_state=TRAIN_TEST_SPLIT_SEED)\n",
    "\n",
    "tp = len([ans for pred, ans in zip(test['is_good_rulebase'], test['is_good_saito']) if pred == 1 and ans == 1])\n",
    "tn = len([ans for pred, ans in zip(test['is_good_rulebase'], test['is_good_saito']) if pred == 0 and ans == 0])\n",
    "fp = len([ans for pred, ans in zip(test['is_good_rulebase'], test['is_good_saito']) if pred == 1 and ans == 0])\n",
    "fn = len([ans for pred, ans in zip(test['is_good_rulebase'], test['is_good_saito']) if pred == 0 and ans == 1])\n",
    "\n",
    "recall = tp / (tp + fn)\n",
    "precision = tp / (tp + fp)\n",
    "f_measure = 2 * (precision * recall) / (precision + recall)\n",
    "print('TP : ', tp)\n",
    "print('TF : ', tn)\n",
    "print('FP : ', fp)\n",
    "print('FN : ', fn)\n",
    "print('recall : ', round(recall, 4))\n",
    "print('precision : ', round(precision, 4))\n",
    "print('f_measure : ', round(f_measure, 4))"
   ]
  },
  {
   "cell_type": "code",
   "execution_count": 4,
   "metadata": {},
   "outputs": [
    {
     "data": {
      "text/plain": [
       "[(960, 1801),\n",
       " (3, 615),\n",
       " (958, 2276),\n",
       " (21, 568),\n",
       " (50, 93),\n",
       " (956, 2232),\n",
       " (138, 15),\n",
       " (352, 1443),\n",
       " (324, 803),\n",
       " (3, 1035),\n",
       " (324, 1788),\n",
       " (959, 2148),\n",
       " (142, 1636),\n",
       " (3, 901),\n",
       " (100, 2244)]"
      ]
     },
     "execution_count": 4,
     "metadata": {},
     "output_type": "execute_result"
    }
   ],
   "source": [
    "[(did, sid) for did, sid, pred, ans in zip(test['drawing_id'], test['stroke_id'],test['is_good_rulebase'], test['is_good_saito']) if pred == 1 and ans == 0]"
   ]
  },
  {
   "cell_type": "code",
   "execution_count": 6,
   "metadata": {},
   "outputs": [
    {
     "name": "stdout",
     "output_type": "stream",
     "text": [
      "TP :  91\n",
      "TF :  46\n",
      "FP :  8\n",
      "FN :  0\n",
      "recall :  1.0\n",
      "precision :  0.9192\n",
      "f_measure :  0.9579\n",
      "TP :  90\n",
      "TF :  48\n",
      "FP :  6\n",
      "FN :  1\n",
      "recall :  0.989\n",
      "precision :  0.9375\n",
      "f_measure :  0.9626\n",
      "TP :  90\n",
      "TF :  50\n",
      "FP :  5\n",
      "FN :  0\n",
      "recall :  1.0\n",
      "precision :  0.9474\n",
      "f_measure :  0.973\n",
      "TP :  89\n",
      "TF :  47\n",
      "FP :  8\n",
      "FN :  1\n",
      "recall :  0.9889\n",
      "precision :  0.9175\n",
      "f_measure :  0.9519\n",
      "TP :  90\n",
      "TF :  48\n",
      "FP :  6\n",
      "FN :  1\n",
      "recall :  0.989\n",
      "precision :  0.9375\n",
      "f_measure :  0.9626\n"
     ]
    }
   ],
   "source": [
    "# K-Fold\n",
    "TRAIN_TEST_SPLIT_SEED = 1\n",
    "KFOLD_SHUFFLE_SEED = 1\n",
    "KFOLD_SHUFFLE_LABEL = 'saito_label'\n",
    "K = 5\n",
    "\n",
    "data = pd.read_csv(f'../temp/eachpt_feature/1_3_org_coord.csv', delimiter=',', index_col=0)\n",
    "X = data.copy()\n",
    "y = data[Y_COL]\n",
    "# 学習データとテストデータを725:310に分割する\n",
    "train_valid, test, y_train_valid, y_test = train_test_split(X, y, train_size=725, shuffle=True, stratify=y, random_state=TRAIN_TEST_SPLIT_SEED)\n",
    "\n",
    "recalls = []\n",
    "precisions = []\n",
    "f1s = []\n",
    "accuracies = []\n",
    "\n",
    "\n",
    "skf = StratifiedKFold(n_splits=K, shuffle=True, random_state=KFOLD_SHUFFLE_SEED)\n",
    "for k, (train_index, valid_index) in enumerate(skf.split(train_valid, train_valid[KFOLD_SHUFFLE_LABEL])):\n",
    "    \n",
    "    ### 訓練データと検証データに分ける ###\n",
    "    train, valid = train_valid.iloc[train_index], train_valid.iloc[valid_index]\n",
    "    tp = len([ans for pred, ans in zip(valid['is_good_rulebase'], valid['is_good_saito']) if pred == 1 and ans == 1])\n",
    "    tn = len([ans for pred, ans in zip(valid['is_good_rulebase'], valid['is_good_saito']) if pred == 0 and ans == 0])\n",
    "    fp = len([ans for pred, ans in zip(valid['is_good_rulebase'], valid['is_good_saito']) if pred == 1 and ans == 0])\n",
    "    fn = len([ans for pred, ans in zip(valid['is_good_rulebase'], valid['is_good_saito']) if pred == 0 and ans == 1])\n",
    "\n",
    "    recall = tp / (tp + fn)\n",
    "    precision = tp / (tp + fp)\n",
    "    f_measure = 2 * (precision * recall) / (precision + recall)\n",
    "    print('TP : ', tp)\n",
    "    print('TF : ', tn)\n",
    "    print('FP : ', fp)\n",
    "    print('FN : ', fn)\n",
    "    print('recall : ', round(recall, 4))\n",
    "    print('precision : ', round(precision, 4))\n",
    "    print('f_measure : ', round(f_measure, 4))\n",
    "    \n",
    "    recalls.append(recall)\n",
    "    precisions.append(precision)\n",
    "    f1s.append(f_measure)    \n",
    "    "
   ]
  },
  {
   "cell_type": "code",
   "execution_count": 8,
   "metadata": {},
   "outputs": [
    {
     "name": "stdout",
     "output_type": "stream",
     "text": [
      "0.9933821733821734\n",
      "0.9318172226880854\n",
      "0.9615746114817323\n"
     ]
    }
   ],
   "source": [
    "# ルールベースのK-fold平均\n",
    "print(sum(recalls) / len(recalls))\n",
    "print(sum(precisions) / len(precisions))\n",
    "print(sum(f1s) / len(f1s))"
   ]
  },
  {
   "cell_type": "code",
   "execution_count": null,
   "metadata": {},
   "outputs": [],
   "source": []
  }
 ],
 "metadata": {
  "kernelspec": {
   "display_name": ".venv",
   "language": "python",
   "name": "python3"
  },
  "language_info": {
   "codemirror_mode": {
    "name": "ipython",
    "version": 3
   },
   "file_extension": ".py",
   "mimetype": "text/x-python",
   "name": "python",
   "nbconvert_exporter": "python",
   "pygments_lexer": "ipython3",
   "version": "3.10.8"
  }
 },
 "nbformat": 4,
 "nbformat_minor": 2
}
