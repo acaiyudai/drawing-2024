{
 "cells": [
  {
   "cell_type": "markdown",
   "metadata": {},
   "source": [
    "### 2024-03-29 齊藤先生にアノテーションしてもらったストローク画像のファイル名を取得し、表形式で記録する"
   ]
  },
  {
   "cell_type": "code",
   "execution_count": 45,
   "metadata": {},
   "outputs": [],
   "source": [
    "import pandas as pd\n",
    "import glob\n",
    "import os\n",
    "import requests\n",
    "import io"
   ]
  },
  {
   "cell_type": "code",
   "execution_count": 39,
   "metadata": {},
   "outputs": [],
   "source": [
    "# 引数に指定したフォルダの中にあるpngファイルを、ドローイングidとストロークidが入ったデータフレームに変換して返す\n",
    "def get_ids(folder_path):\n",
    "    # ファイル名の取得\n",
    "    file_names = []\n",
    "    for f in glob.glob(folder_path + '/*.png'):\n",
    "        file_names.append(os.path.split(f)[1])\n",
    "    \n",
    "    # ドローイングidとストロークidの取得\n",
    "    did_sids = []\n",
    "    for name in file_names:\n",
    "        did, sid = name.split('_')\n",
    "        sid = sid.replace('.png', '')\n",
    "        did_sids.append([int(did), int(sid)])\n",
    "    \n",
    "    df_id = pd.DataFrame(did_sids)\n",
    "    df_id.columns = ['drawing_id', 'stroke_id']\n",
    "    \n",
    "    return df_id"
   ]
  },
  {
   "cell_type": "code",
   "execution_count": 59,
   "metadata": {},
   "outputs": [
    {
     "name": "stdout",
     "output_type": "stream",
     "text": [
      "110\n"
     ]
    }
   ],
   "source": [
    "folder_path = '../temp/test'\n",
    "id_df = get_ids(folder_path)\n",
    "print(len(id_df))"
   ]
  },
  {
   "cell_type": "code",
   "execution_count": 46,
   "metadata": {},
   "outputs": [],
   "source": [
    "def get_drawing_data(url, drawing_id, rotate_type, times):\n",
    "    class DrawingData():\n",
    "        def __init__(self, url, drawing_id, rotate_type, times):\n",
    "            self.CANVAS_HEIGHT = 297\n",
    "            self.CANVAS_WIDTH = 420\n",
    "            self.MAX_POINT = 943\n",
    "            self.NORM_DIVISOR = 3\n",
    "            self.columns = [ 'time', 'alpha', 'max_points', 'ptx_anoto', 'pty_anoto', 'shape_str',\n",
    "                        'pressure_style', 'len_mm_acc', 'len_anoto', 'pressure_avg', 'shape_int']\n",
    "            self.BIN_HEIGHT = 420\n",
    "            self.BIN_WIDTH = 420\n",
    "            \n",
    "            self.df_org = None\n",
    "            self.df_mm = None\n",
    "            \n",
    "            self.url = url\n",
    "            self.drawing_id = drawing_id\n",
    "            self.rotate_type = rotate_type\n",
    "            self.times = times\n",
    "            \n",
    "            # urlからデータを作成\n",
    "            self.get_df(self.url)\n",
    "            self.conv_str_to_coord()\n",
    "\n",
    "            ################################\n",
    "            \n",
    "        # URLからデータフレームを取得 & ストローク長の列を追加\n",
    "        def get_df(self, url):\n",
    "            content = requests.get(url, auth=('19t2003a', 'ireneRED77')).content\n",
    "            df = pd.read_table(io.StringIO(content.decode('utf-8')), header = None)\n",
    "            df.columns = self.columns\n",
    "            st_len_mm = [l*0.3 for l in df['len_anoto']]\n",
    "            df['len_mm'] = st_len_mm\n",
    "            # ストローク固有のidを付与\n",
    "            df_reindex = df.reset_index()\n",
    "            df_reindex = df_reindex.rename(columns={'index': 'stroke_id'})\n",
    "            \n",
    "            # ドローイングidの列を追加\n",
    "            df_reindex['drawing_id'] = [self.drawing_id for i in range(len(df_reindex))]\n",
    "            # 回数の列を追加\n",
    "            df_reindex['times'] = [self.times for i in range(len(df_reindex))]\n",
    "            \n",
    "            self.df_org = df_reindex.copy()\n",
    "            \n",
    "        # 文字列座標データをリストに変換 & anotoから普通座標に変換\n",
    "        def conv_str_to_coord(self):\n",
    "            df = self.df_org.copy()\n",
    "            x_list = []\n",
    "            y_list = []\n",
    "            for str_x, str_y in zip(df['ptx_anoto'], df['pty_anoto']):\n",
    "                x_list.append([float(x)*0.3 for x in str_x.split(',')])\n",
    "                y_list.append([float(y)*0.3 for y in str_y.split(',')])\n",
    "            df['ptx_mm'] = x_list\n",
    "            df['pty_mm'] = y_list\n",
    "            self.df_mm = df\n",
    "            \n",
    "            \n",
    "    data = DrawingData(url, drawing_id, rotate_type, times)\n",
    "    \n",
    "    return data.df_mm\n"
   ]
  },
  {
   "cell_type": "code",
   "execution_count": 49,
   "metadata": {},
   "outputs": [],
   "source": [
    "# ドローイングidとストロークidに座標データなどを対応付けた表を作成\n",
    "drawing_info = pd.read_excel('../data/all_drawing_info.xlsx', index_col=0)\n",
    "box_info = drawing_info.query('is_preanalysis_box == 1')\n",
    "bag_info = drawing_info.query('is_preanalysis_bag == 1')\n",
    "\n",
    "# 予備解析のみのデータを作成\n",
    "preana_info = pd.concat([box_info, bag_info], axis=0)\n",
    "preana_dfs = []\n",
    "for url, did, rtype, times in zip(\n",
    "    preana_info['url'], preana_info['drawing_id'], preana_info['rotate_type'], preana_info['times']):\n",
    "    preana_dfs.append(get_drawing_data(url, did, rtype, times))"
   ]
  },
  {
   "cell_type": "code",
   "execution_count": 51,
   "metadata": {},
   "outputs": [],
   "source": [
    "preana_df = pd.concat(preana_dfs, axis=0)"
   ]
  },
  {
   "cell_type": "code",
   "execution_count": 58,
   "metadata": {},
   "outputs": [],
   "source": [
    "annotation_rows = []\n",
    "for did, sid in zip(id_df['drawing_id'], id_df['stroke_id']):\n",
    "    row = preana_df.query('drawing_id == @did').query('stroke_id == @sid')\n",
    "    annotation_rows.append(row)\n",
    "    \n",
    "annotation_df = pd.concat(annotation_rows, axis=0)"
   ]
  },
  {
   "cell_type": "code",
   "execution_count": 60,
   "metadata": {},
   "outputs": [
    {
     "name": "stdout",
     "output_type": "stream",
     "text": [
      "110\n"
     ]
    }
   ],
   "source": [
    "print(len(annotation_df))"
   ]
  },
  {
   "cell_type": "code",
   "execution_count": null,
   "metadata": {},
   "outputs": [],
   "source": []
  }
 ],
 "metadata": {
  "kernelspec": {
   "display_name": ".venv",
   "language": "python",
   "name": "python3"
  },
  "language_info": {
   "codemirror_mode": {
    "name": "ipython",
    "version": 3
   },
   "file_extension": ".py",
   "mimetype": "text/x-python",
   "name": "python",
   "nbconvert_exporter": "python",
   "pygments_lexer": "ipython3",
   "version": "3.10.8"
  }
 },
 "nbformat": 4,
 "nbformat_minor": 2
}
