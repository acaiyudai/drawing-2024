{
 "cells": [
  {
   "cell_type": "markdown",
   "metadata": {},
   "source": [
    "### 2024-04-25 外れ値を定義する"
   ]
  },
  {
   "cell_type": "code",
   "execution_count": 1,
   "metadata": {},
   "outputs": [],
   "source": [
    "import pandas as pd\n",
    "import numpy as np\n",
    "import requests\n",
    "import io\n",
    "import math\n",
    "import copy\n",
    "from scipy.stats import gmean\n",
    "import matplotlib as mpl\n",
    "import matplotlib.pyplot as plt\n",
    "from matplotlib import patches\n",
    "from pipeline_functions import PipelineFunctions\n",
    "pf = PipelineFunctions()\n",
    "from view_functions import ViewFunction\n",
    "vf = ViewFunction()"
   ]
  },
  {
   "cell_type": "markdown",
   "metadata": {},
   "source": [
    "##### ▶データを読み込む"
   ]
  },
  {
   "cell_type": "code",
   "execution_count": 2,
   "metadata": {},
   "outputs": [],
   "source": [
    "# URLを指定したドローイングの、指定した順番のストロークの形状を描画する関数\n",
    "def draw_stroke(url, rotate_type, drawing_id, stroke_id, path):\n",
    "    class PreprocessedData():\n",
    "        def __init__(self, url, rotate_type):\n",
    "            self.CANVAS_HEIGHT = 297\n",
    "            self.CANVAS_WIDTH = 420\n",
    "            self.MAX_POINT = 943\n",
    "            self.NORM_DIVISOR = 3\n",
    "            self.columns = [ 'time', 'alpha', 'max_points', 'ptx_anoto', 'pty_anoto', 'shape_str',\n",
    "                        'pressure_style', 'len_mm_acc', 'len_anoto', 'pressure_avg', 'shape_int']\n",
    "            self.BIN_HEIGHT = 420\n",
    "            self.BIN_WIDTH = 420\n",
    "            \n",
    "            self.df_org = None\n",
    "            self.df_mm = None\n",
    "            self.df_remove_overlap = None\n",
    "            \n",
    "            self.url = url\n",
    "            self.rotate_type = rotate_type\n",
    "            \n",
    "            # urlからデータを作成\n",
    "            self.get_df(self.url)\n",
    "            self.conv_str_to_coord()\n",
    "\n",
    "            self.remove_overlap_coord()\n",
    "            ################################\n",
    "            \n",
    "        # URLからデータフレームを取得 & ストローク長の列を追加\n",
    "        def get_df(self, url):\n",
    "            content = requests.get(url, auth=('19t2003a', 'ireneRED77')).content\n",
    "            df = pd.read_table(io.StringIO(content.decode('utf-8')), header = None)\n",
    "            df.columns = self.columns\n",
    "            st_len_mm = [l*0.3 for l in df['len_anoto']]\n",
    "            df['len_mm'] = st_len_mm\n",
    "            # ストローク固有のidを付与\n",
    "            df_reindex = df.reset_index()\n",
    "            df_reindex = df_reindex.rename(columns={'index': 'stroke_id'})\n",
    "            \n",
    "            self.df_org = df_reindex.copy()\n",
    "            \n",
    "        # 文字列座標データをリストに変換 & anotoから普通座標に変換\n",
    "        def conv_str_to_coord(self):\n",
    "            df = self.df_org.copy()\n",
    "            x_list = []\n",
    "            y_list = []\n",
    "            for str_x, str_y in zip(df['ptx_anoto'], df['pty_anoto']):\n",
    "                x_list.append([float(x)*0.3 for x in str_x.split(',')])\n",
    "                y_list.append([float(y)*0.3 for y in str_y.split(',')])\n",
    "            df['ptx_mm'] = x_list\n",
    "            df['pty_mm'] = y_list\n",
    "            self.df_mm = df\n",
    "        \n",
    "        # 重複している座標を排除\n",
    "        def remove_overlap_coord(self):\n",
    "            df = self.df_mm.copy()\n",
    "            \n",
    "            org_ptxs = df['ptx_mm']\n",
    "            org_ptys = df['pty_mm']\n",
    "            remove_indexs = []\n",
    "            for ptxs, ptys in zip(org_ptxs, org_ptys):\n",
    "                remove_index = []\n",
    "                for i in range(1, len(ptxs)):\n",
    "                    if ptxs[i] == ptxs[i-1] and ptys[i] == ptys[i-1]:\n",
    "                        remove_index.append(i)\n",
    "                    else:\n",
    "                        pass\n",
    "                remove_indexs.append(remove_index)\n",
    "            \n",
    "            df['remove_index'] = remove_indexs\n",
    "            \n",
    "            remove_overlap_ptxs = []\n",
    "            remove_overlap_ptys = []\n",
    "            for ptxs, ptys, remove_index in zip(org_ptxs, org_ptys, df['remove_index']):\n",
    "                remove_overlap_ptx = [ ptxs[i] for i in range(len(ptxs)) if i not in remove_index]\n",
    "                remove_overlap_pty = [ ptys[i] for i in range(len(ptys)) if i not in remove_index]\n",
    "                remove_overlap_ptxs.append(remove_overlap_ptx)\n",
    "                remove_overlap_ptys.append(remove_overlap_pty)    \n",
    "            \n",
    "            df['ptx_mm'] = remove_overlap_ptxs\n",
    "            df['pty_mm'] = remove_overlap_ptys\n",
    "            \n",
    "            self.df_remove_overlap = df\n",
    "\n",
    "    # --- グラフ描画 ---#\n",
    "    data = PreprocessedData(url, rotate_type)\n",
    "    df = data.df_remove_overlap\n",
    "    \n",
    "    STROKE_COLOR = 'black'\n",
    "    STROKE_WIDTH = 1\n",
    "    FIG_WIDTH = 10\n",
    "    FIG_HEIGHT = 10\n",
    "    \n",
    "    \n",
    "    plt.rcParams['font.family'] = 'MS Gothic'\n",
    "    fig, ax = plt.subplots(figsize=(FIG_WIDTH, FIG_HEIGHT), facecolor='white')\n",
    "    \n",
    "    x = df.query('stroke_id == @stroke_id')['ptx_mm'].iloc[-1]\n",
    "    y = df.query('stroke_id == @stroke_id')['pty_mm'].iloc[-1]\n",
    "    \n",
    "    ax.plot(x, y, color=STROKE_COLOR, linewidth=STROKE_WIDTH)\n",
    "    ax.scatter(x, y, color=STROKE_COLOR, marker='.')\n",
    "    \n",
    "    title = f'{drawing_id}_{stroke_id}_coordsize-{len(x)}'\n",
    "    ax.set_title(title)\n",
    "    # plt.savefig(f'{path}/{drawing_id}_{stroke_id}.png')\n",
    "    plt.show()\n",
    "    plt.close()\n",
    "    return"
   ]
  },
  {
   "cell_type": "code",
   "execution_count": 3,
   "metadata": {},
   "outputs": [],
   "source": [
    "# 箱ひげ図を作成する\n",
    "def boxviolinplot(plot_list, label, ymin, ymax):\n",
    "    title = ''\n",
    "    plt.rcParams['font.family'] = 'MS Gothic'\n",
    "    FIG_WIDTH = 15\n",
    "    FIG_HEIGHT = 7\n",
    "    fig, ax = plt.subplots(figsize=(FIG_WIDTH, FIG_HEIGHT), facecolor='white')\n",
    "    ax.set_ylim(ymin, ymax)\n",
    "    ax.grid(True)\n",
    "    ax.set_xticklabels(label)\n",
    "\n",
    "    ax.set_title(title)\n",
    "    \n",
    "    # ax.boxplot(plot_list, whis=(0, 100))\n",
    "    # ax.boxplot(plot_list, whis=(5, 95))\n",
    "    \n",
    "    ax.boxplot(plot_list, whis=1.5)\n",
    "    \n",
    "    # ax.violinplot(plot_list)\n",
    "    \n",
    "    plt.show()\n",
    "    plt.close()\n",
    "    return"
   ]
  },
  {
   "cell_type": "code",
   "execution_count": 16,
   "metadata": {},
   "outputs": [],
   "source": [
    "# 成果物を描画する\n",
    "def draw_all_stroke(xs, ys, rotate_type, did, sid, ptcnt):\n",
    "    # グラフ用パラメータを定義する\n",
    "    WIDTH = 420\n",
    "    HEIGHT = 297\n",
    "    SCALE = 0.015\n",
    "    STROKE_WIDTH = 0.5\n",
    "    PLOT_SIZE = 1\n",
    "    STROKE_COLOR = 'black'\n",
    "    FACE_COLOR = 'white'\n",
    "    plt.rcParams['font.family'] = 'Times New Roman'\n",
    "    # ===== コメントアウトで軸を消去する ===== #\n",
    "    # plt.tick_params(labelbottom=False, labelleft=False, labelright=False, labeltop=False, \n",
    "    #                 bottom=False, left=False, right=False, top=False)\n",
    "    # ===================================== #\n",
    "    \n",
    "    \n",
    "    # 回転方向によって用紙の向きを変える\n",
    "    if rotate_type == 0 or rotate_type ==180:\n",
    "        FIG_SIZE = (WIDTH*SCALE, HEIGHT*SCALE)\n",
    "    else:\n",
    "        FIG_SIZE = (HEIGHT*SCALE, WIDTH*SCALE)\n",
    "    \n",
    "    fig, ax = plt.subplots(facecolor=FACE_COLOR, figsize=(FIG_SIZE[0],FIG_SIZE[1]))\n",
    "    \n",
    "    if rotate_type == 0 or rotate_type ==180:\n",
    "        ax.set_xlim([0, WIDTH])    # x方向の描画範囲を指定\n",
    "        ax.set_ylim([0, HEIGHT])    # y方向の描画範囲を指定\n",
    "    else:\n",
    "        ax.set_xlim([0, HEIGHT])    # x方向の描画範囲を指定\n",
    "        ax.set_ylim([0, WIDTH])    # y方向の描画範囲を指定\n",
    "        \n",
    "    # ストロークを描画する\n",
    "    # for x, y in zip(xs, ys):\n",
    "        # ax.plot(x, y, color=STROKE_COLOR, linewidth=STROKE_WIDTH)\n",
    "    ax.plot(xs, ys, color=STROKE_COLOR, linewidth=STROKE_WIDTH)\n",
    "    ax.scatter(xs, ys, color=STROKE_COLOR, s=PLOT_SIZE)\n",
    "    \n",
    "    ax.set_facecolor(FACE_COLOR)\n",
    "    \n",
    "    # ===== y軸の向きをデータ収集系に揃える（必須!!!） ===== #\n",
    "    ax.invert_yaxis()\n",
    "    # =================================================== #\n",
    "    plt.tick_params(labelbottom=False, labelleft=False, labelright=False, labeltop=False, \n",
    "                        bottom=False, left=False, right=False, top=False)\n",
    "    # plt.savefig(f'../temp/complex/{ptcnt}_id_{did}_{sid}.png')\n",
    "    plt.show()\n",
    "    plt.close()\n",
    "    return"
   ]
  },
  {
   "cell_type": "code",
   "execution_count": 2,
   "metadata": {},
   "outputs": [],
   "source": [
    "def draw_one_stroke(x, y, rotate_type, did, sid, ptcnt):\n",
    "        # グラフ用パラメータを定義する\n",
    "        CANVAS_COLOR = 'white'\n",
    "        STROKE_COLOR = 'black'\n",
    "        STROKE_WIDTH = 1\n",
    "        SCALE = 0.015\n",
    "        PLOT_SIZE = 5\n",
    "        plt.rcParams['font.family'] = 'MS Gothic'\n",
    "        \n",
    "        # 回転方向によって用紙の向きを変える\n",
    "        if rotate_type == 0 or rotate_type == 180:\n",
    "            X_MIN = 0\n",
    "            X_MAX = 420\n",
    "            Y_MIN = 0\n",
    "            Y_MAX = 297\n",
    "        else:\n",
    "            X_MIN = 0\n",
    "            X_MAX = 297\n",
    "            Y_MIN = 0\n",
    "            Y_MAX = 420\n",
    "        \n",
    "        fig, ax = plt.subplots(figsize=((X_MAX - X_MIN)*SCALE, (Y_MAX - Y_MIN)*SCALE), facecolor='white')\n",
    "        ax.set_facecolor(CANVAS_COLOR)\n",
    "        \n",
    "        # # 座標の始点を用紙の中心(X_MAX/2, Y_MAX/2)にする\n",
    "        # x_plot = [(c - x[0])*STROKE_SCALE + (X_MAX-X_MIN)/2 for c in x]\n",
    "        # y_plot = [(c - y[0])*STROKE_SCALE + (Y_MAX-Y_MIN)/2 for c in y]\n",
    "        \n",
    "        # 座標の外包矩形が接するように拡大する\n",
    "        x_slide_ex = []\n",
    "        y_slide_ex = []\n",
    "        x_min, x_max, y_min, y_max = min(x), max(x), min(y), max(y)\n",
    "        x_range = x_max - x_min\n",
    "        y_range = y_max - y_min\n",
    "        x_slide = [float(c) - x_min for c in x]\n",
    "        y_slide = [float(c) - y_min for c in y]\n",
    "        \n",
    "        # ストローク座標が1点しかない場合は，拡大はせず原点にスライドするだけ\n",
    "        if x_range == 0 and y_range == 0:\n",
    "            x_slide_ex = x_slide\n",
    "            y_slide_ex = y_slide\n",
    "        # ありえないが，一応，ストロークが寸分違わず垂直の場合を考慮\n",
    "        elif x_range == 0:\n",
    "            y_ratio = (Y_MAX - Y_MIN) / y_range\n",
    "            x_slide_ex = [float(x) * y_ratio for x in x_slide]\n",
    "            y_slide_ex = [float(y) * y_ratio for y in y_slide]\n",
    "        # ありえないが，一応，ストロークが寸分違わず水平の場合を考慮\n",
    "        elif y_range == 0 :\n",
    "            x_ratio = (X_MAX - X_MIN) / x_range\n",
    "            x_slide_ex = [float(x) * x_ratio for x in x_slide]\n",
    "            y_slide_ex = [float(y) * x_ratio for y in y_slide]\n",
    "        else :\n",
    "            x_ratio = (X_MAX - X_MIN) / x_range\n",
    "            y_ratio = (Y_MAX - Y_MIN) / y_range\n",
    "            if x_ratio <= y_ratio :\n",
    "                x_slide_ex = [float(x) * x_ratio for x in x_slide]\n",
    "                y_slide_ex = [float(y) * x_ratio for y in y_slide]\n",
    "            elif x_ratio > y_ratio :\n",
    "                x_slide_ex = [float(x) * y_ratio for x in x_slide]\n",
    "                y_slide_ex = [float(y) * y_ratio for y in y_slide]\n",
    "            else :\n",
    "                pass\n",
    "            \n",
    "        x_plot = x_slide_ex\n",
    "        y_plot = y_slide_ex\n",
    "        \n",
    "        \n",
    "        # 軸の大きさ\n",
    "        MARGIN_MM = 5\n",
    "        ax.set_xlim(X_MIN-MARGIN_MM, X_MAX+MARGIN_MM)\n",
    "        ax.set_ylim(Y_MIN-MARGIN_MM, Y_MAX+MARGIN_MM)\n",
    "        \n",
    "        ax.plot(x_plot, y_plot, color=STROKE_COLOR, linewidth=STROKE_WIDTH)\n",
    "        ax.scatter(x_plot, y_plot, color=STROKE_COLOR, s=PLOT_SIZE)\n",
    "        # ax.scatter(x_plot[:1], y_plot[:1], color='orange', s=200)\n",
    "        \n",
    "        ax.invert_yaxis()\n",
    "        plt.tick_params(labelbottom=False, labelleft=False, labelright=False, labeltop=False, \n",
    "                        bottom=False, left=False, right=False, top=False)\n",
    "        plt.savefig(f'../temp/complex/{ptcnt}_id_{did}_{sid}.png')\n",
    "        # plt.show()\n",
    "        plt.close()\n",
    "        return"
   ]
  },
  {
   "cell_type": "code",
   "execution_count": 3,
   "metadata": {},
   "outputs": [],
   "source": [
    "coord_size = pd.read_csv('../temp/coord_size_alldrawing.csv', index_col=0)\n",
    "coord_size_each = pd.read_pickle('../temp/20240216_coordsize.pkl')"
   ]
  },
  {
   "cell_type": "markdown",
   "metadata": {},
   "source": [
    "##### ▶座標数の分布"
   ]
  },
  {
   "cell_type": "code",
   "execution_count": 5,
   "metadata": {},
   "outputs": [],
   "source": [
    "# boxviolinplot(coord_size['coord_sizes_remove_overlap'], ['座票数'], 0, 20)"
   ]
  },
  {
   "cell_type": "markdown",
   "metadata": {},
   "source": [
    "##### ▶上側95, 99%を外れ値とする"
   ]
  },
  {
   "cell_type": "code",
   "execution_count": 6,
   "metadata": {},
   "outputs": [
    {
     "name": "stdout",
     "output_type": "stream",
     "text": [
      "83\n"
     ]
    }
   ],
   "source": [
    "###################\n",
    "trim_percentile = 99\n",
    "###################\n",
    "\n",
    "# 座票数を大きい順に並べ替える\n",
    "sorted_coordsize = sorted(coord_size['coord_sizes_remove_overlap'].to_list(), reverse=False)\n",
    "# 区切る場所を設定する\n",
    "trim_point = int(len(sorted_coordsize) / 100 * trim_percentile)\n",
    "# トリム後の座標数\n",
    "trimmed_coordsize = sorted_coordsize[:trim_point]\n",
    "# トリム後の座標数の最大値\n",
    "max_in_trim = max(trimmed_coordsize)\n",
    "print(max_in_trim)"
   ]
  },
  {
   "cell_type": "markdown",
   "metadata": {},
   "source": [
    "##### ▶99%以内のデータにも，最大座標数83が含まれているので83も診断対象として含める"
   ]
  },
  {
   "cell_type": "code",
   "execution_count": 7,
   "metadata": {},
   "outputs": [
    {
     "name": "stdout",
     "output_type": "stream",
     "text": [
      "2041566\n"
     ]
    }
   ],
   "source": [
    "# 座標数が83以下のストローク（線種判定の診断対象）\n",
    "coordsize_below83 = [val for val in sorted_coordsize if val <= 83]\n",
    "print(len(coordsize_below83))"
   ]
  },
  {
   "cell_type": "markdown",
   "metadata": {},
   "source": [
    "##### ▶パイプライン用クラスを使って再現性を確認する"
   ]
  },
  {
   "cell_type": "code",
   "execution_count": 4,
   "metadata": {},
   "outputs": [],
   "source": [
    "# 浅井の解析対象データ\n",
    "target_info = pd.read_excel('../data/all_drawing_info.xlsx', index_col=0).query('is_asai == 1')"
   ]
  },
  {
   "cell_type": "code",
   "execution_count": 5,
   "metadata": {},
   "outputs": [],
   "source": [
    "drawing_ids = []\n",
    "rotate_types = []\n",
    "stroke_ids = []\n",
    "shapes = []\n",
    "rotated_xs = []\n",
    "rotated_ys = []\n",
    "normalized_xs = []\n",
    "normalized_ys = []\n",
    "\n",
    "for did in target_info['drawing_id']:\n",
    "    # 重複なし，回転済み，サイズ正規化済みのdfを取得\n",
    "    rotate_type = target_info.query('drawing_id == @did')['rotate_type'].iloc[0]\n",
    "    df = pf.get_normalized_data(f'../data/all_tsv/id_{did}.tsv', rotate_type)\n",
    "    \n",
    "    for sid, shape, rx, ry, nx, ny in zip(\n",
    "    df['stroke_id'], df['shape_int'], \n",
    "    df['rotated_x'], df['rotated_y'], \n",
    "    df['size_unified_x'], df['size_unified_y']\n",
    "    ):\n",
    "        drawing_ids.append(did)\n",
    "        rotate_types.append(rotate_type)\n",
    "        stroke_ids.append(sid)\n",
    "        shapes.append(shape)\n",
    "        rotated_xs.append(rx)\n",
    "        rotated_ys.append(ry)\n",
    "        normalized_xs.append(nx)\n",
    "        normalized_ys.append(ny)\n",
    "        \n",
    "coordsizes = [len(coord) for coord in rotated_xs]\n",
    "df_all = pd.DataFrame({\n",
    "    'drawing_id': drawing_ids, \n",
    "    'stroke_id': stroke_ids,\n",
    "    'shape_int': shapes,\n",
    "    'rotate_type': rotate_types,\n",
    "    'pt_cnt': coordsizes,\n",
    "    'rotated_x': rotated_xs,\n",
    "    'rotated_y':rotated_ys,\n",
    "    'normalized_x': normalized_xs,\n",
    "    'normalized_y': normalized_ys\n",
    "})"
   ]
  },
  {
   "cell_type": "markdown",
   "metadata": {},
   "source": [
    "##### ▶すべての解析対象ストローク(座票数が83以下のストローク)"
   ]
  },
  {
   "cell_type": "code",
   "execution_count": 5,
   "metadata": {},
   "outputs": [
    {
     "name": "stdout",
     "output_type": "stream",
     "text": [
      "座標数が83個以下のストローク 2041566\n"
     ]
    }
   ],
   "source": [
    "MAX_PT_CNT = 83\n",
    "print('座標数が83個以下のストローク', len(df_all.query('pt_cnt <= @MAX_PT_CNT')))"
   ]
  },
  {
   "cell_type": "markdown",
   "metadata": {},
   "source": [
    "##### ▶座標数が83より大きい線が既存の線種判定で複雑線と判定されているかを確認する"
   ]
  },
  {
   "cell_type": "code",
   "execution_count": 6,
   "metadata": {},
   "outputs": [
    {
     "data": {
      "text/plain": [
       "(array([  243.,     0., 18266.,     0.,  1825.]),\n",
       " array([2. , 2.4, 2.8, 3.2, 3.6, 4. ]),\n",
       " <BarContainer object of 5 artists>)"
      ]
     },
     "execution_count": 6,
     "metadata": {},
     "output_type": "execute_result"
    },
    {
     "data": {
      "image/png": "[encoded data removed]",
      "text/plain": [
       "<Figure size 640x480 with 1 Axes>"
      ]
     },
     "metadata": {},
     "output_type": "display_data"
    }
   ],
   "source": [
    "MAX_PT_CNT = 83\n",
    "df_over83 = df_all.query('pt_cnt > @MAX_PT_CNT')\n",
    "plt.xlim([0, 4.5])\n",
    "plt.hist(df_over83['shape_int'], bins = 5)"
   ]
  },
  {
   "cell_type": "markdown",
   "metadata": {},
   "source": [
    "##### ▶ストロークを描画して形状を確認する"
   ]
  },
  {
   "cell_type": "code",
   "execution_count": 22,
   "metadata": {},
   "outputs": [],
   "source": [
    "# # 曲線\n",
    "# curve = df_over83.query('shape_int == 2')\n",
    "# # 複雑線\n",
    "# complex = df_over83.query('shape_int == 3')\n",
    "# # ハッチング\n",
    "# hatching = df_over83.query('shape_int == 4')\n",
    "\n",
    "# # ストロークを描画して保存する\n",
    "# show_shape = curve[0:10]\n",
    "# cnt = 0\n",
    "# for x, y, rotate_type, did, sid, ptcnt in zip(\n",
    "#     show_shape['rotated_x'], show_shape['rotated_y'], show_shape['rotate_type'],\n",
    "#     show_shape['drawing_id'], show_shape['stroke_id'], show_shape['pt_cnt']\n",
    "# ):\n",
    "#     draw_all_stroke(x, y, rotate_type, did, sid, ptcnt)\n",
    "#     print(cnt)\n",
    "#     cnt += 1"
   ]
  },
  {
   "cell_type": "markdown",
   "metadata": {},
   "source": [
    "##### ▶外包矩形の面積と座標数の相関を確認する⇒相関なし"
   ]
  },
  {
   "cell_type": "code",
   "execution_count": 33,
   "metadata": {},
   "outputs": [],
   "source": [
    "# def calc_stroke_area(x, y):\n",
    "#     x_min, x_max, y_min, y_max = min(x), max(x), min(y), max(y)\n",
    "#     x_range = x_max - x_min\n",
    "#     y_range = y_max - y_min\n",
    "#     return x_range * y_range\n",
    "# stroke_areas = []\n",
    "# for x, y in zip(df_all['rotated_x'], df_all['rotated_y']):\n",
    "#     stroke_areas.append(calc_stroke_area(x, y))\n",
    "\n",
    "# stroke_areas = []\n",
    "# for x, y in zip(df_all['rotated_x'], df_all['rotated_y']):\n",
    "#     stroke_areas.append(calc_stroke_area(x, y))\n",
    "# plt.scatter(df_all['pt_cnt'][:2000], stroke_areas[:2000])"
   ]
  },
  {
   "cell_type": "markdown",
   "metadata": {},
   "source": [
    "##### ▶判定対象外ストロークを除いた各ドローイングのストローク数を確認する"
   ]
  },
  {
   "cell_type": "code",
   "execution_count": 42,
   "metadata": {},
   "outputs": [],
   "source": [
    "MAX_PT_CNT = 83\n",
    "df_below83 = df_all.query('pt_cnt <= @MAX_PT_CNT')\n",
    "dids = []\n",
    "org_stcnt = []\n",
    "below83_stcnt = []\n",
    "\n",
    "for did in target_info['drawing_id']:\n",
    "    org_each = df_all.query('drawing_id == @did')\n",
    "    below83_each = df_below83.query('drawing_id == @did')\n",
    "    \n",
    "    dids.append(did)\n",
    "    org_stcnt.append(len(org_each))\n",
    "    below83_stcnt.append(len(below83_each))"
   ]
  },
  {
   "cell_type": "code",
   "execution_count": 78,
   "metadata": {},
   "outputs": [],
   "source": [
    "stcnt = pd.DataFrame({\n",
    "    'drawing_id': dids,\n",
    "    'org_stcnt': org_stcnt,\n",
    "    'below83_stcnt': below83_stcnt\n",
    "})\n",
    "\n",
    "# ストローク数の差\n",
    "diff_stcnt = [o - b for o, b in zip(stcnt['org_stcnt'], stcnt['below83_stcnt'])]\n",
    "# ストローク数の割合\n",
    "ratio_stcnt = [b / o for o, b in zip(stcnt['org_stcnt'], stcnt['below83_stcnt'])]\n",
    "# もともとのストローク数に対する，ストローク数の差の割合\n",
    "ratio_org_diff = [d / o for o, d in zip(stcnt['org_stcnt'], diff_stcnt)]\n",
    "\n",
    "stcnt = pd.DataFrame({\n",
    "    'drawing_id': dids,\n",
    "    'org_stcnt': org_stcnt,\n",
    "    'below83_stcnt': below83_stcnt,\n",
    "    'diff': diff_stcnt,\n",
    "    'ratio': ratio_stcnt,\n",
    "    'ratio_org_diff': ratio_org_diff\n",
    "})\n"
   ]
  },
  {
   "cell_type": "code",
   "execution_count": 3,
   "metadata": {},
   "outputs": [],
   "source": [
    "# plt.hist([stcnt['org_stcnt'], stcnt['below83_stcnt']])\n",
    "# plt.hist(diff_stcnt, bins=20)\n",
    "# plt.hist(ratio_stcnt, bins=100)\n",
    "# print('割合(診断対象ストローク数 / もともとのストローク数) の幾何平均 | ', gmean(ratio_stcnt))\n",
    "# from scipy.stats import ttest_1samp\n",
    "# ストローク数の差の検定\n",
    "# ttest_1samp(diff_stcnt, popmean=0)\n",
    "# ストローク数の割合の検定\n",
    "# ttest_1samp(ratio_stcnt, popmean=1)"
   ]
  },
  {
   "cell_type": "markdown",
   "metadata": {},
   "source": [
    "##### ▶各ドローイングの99%座票数を確認する"
   ]
  },
  {
   "cell_type": "code",
   "execution_count": 86,
   "metadata": {},
   "outputs": [],
   "source": [
    "TRIM_PERCENTILE = 99\n",
    "org_max_ptcnts = []\n",
    "trimmed_ptcnts = []\n",
    "for did in target_info['drawing_id']:\n",
    "    ptcnt_each = df_all.query('drawing_id == @did')['pt_cnt']\n",
    "    \n",
    "    # 座票数を大きい順に並べ替える\n",
    "    sorted_ptcnt = sorted(ptcnt_each.to_list(), reverse=False)\n",
    "    # 区切る場所を設定する\n",
    "    trim_point = int(len(sorted_ptcnt) / 100 * TRIM_PERCENTILE)\n",
    "    # トリム後の座標数\n",
    "    trimmed_ptcnt = sorted_ptcnt[:trim_point]\n",
    "    # トリム後の座標数の最大値\n",
    "    max_trim_ptcnt = max(trimmed_ptcnt)\n",
    "    trimmed_ptcnts.append(max_trim_ptcnt)"
   ]
  },
  {
   "cell_type": "code",
   "execution_count": 88,
   "metadata": {},
   "outputs": [],
   "source": [
    "stcnt['trimmed_ptcnt'] = trimmed_ptcnts"
   ]
  },
  {
   "cell_type": "code",
   "execution_count": 98,
   "metadata": {},
   "outputs": [
    {
     "data": {
      "text/plain": [
       "52"
      ]
     },
     "execution_count": 98,
     "metadata": {},
     "output_type": "execute_result"
    },
    {
     "data": {
      "image/png": "[encoded data removed]",
      "text/plain": [
       "<Figure size 640x480 with 1 Axes>"
      ]
     },
     "metadata": {},
     "output_type": "display_data"
    }
   ],
   "source": [
    "plt.hist([val for val in stcnt['trimmed_ptcnt'] if val > 83], bins=100)\n",
    "# plt.hist(stcnt['trimmed_ptcnt'], bins=20)\n",
    "\n",
    "import statistics\n",
    "statistics.median(stcnt['trimmed_ptcnt'])"
   ]
  },
  {
   "cell_type": "markdown",
   "metadata": {},
   "source": [
    "##### ▶すべてのストロークを100個ごとに分けて標本平均を算出"
   ]
  },
  {
   "cell_type": "code",
   "execution_count": 19,
   "metadata": {},
   "outputs": [
    {
     "data": {
      "text/plain": [
       "(array([ 3.,  6., 13., 19., 36., 40., 29., 16., 22., 14.,  2.,  4.,  0.,\n",
       "         1.,  1.]),\n",
       " array([ 9.46518134,  9.56049555,  9.65580977,  9.75112399,  9.84643821,\n",
       "         9.94175242, 10.03706664, 10.13238086, 10.22769507, 10.32300929,\n",
       "        10.41832351, 10.51363773, 10.60895194, 10.70426616, 10.79958038,\n",
       "        10.89489459]),\n",
       " <BarContainer object of 15 artists>)"
      ]
     },
     "execution_count": 19,
     "metadata": {},
     "output_type": "execute_result"
    },
    {
     "data": {
      "image/png": "[encoded data removed]",
      "text/plain": [
       "<Figure size 640x480 with 1 Axes>"
      ]
     },
     "metadata": {},
     "output_type": "display_data"
    }
   ],
   "source": [
    "import statistics\n",
    "seed = 31\n",
    "n = 206 # 座標数のリストをn分割\n",
    "\n",
    "df_all_shuffle = df_all.sample(frac=1, random_state=seed)\n",
    "ptcnts = df_all_shuffle['pt_cnt'].to_list()\n",
    "\n",
    "splited_ptcnts = [ptcnts[i::n] for i in range(n)]\n",
    "ptcnt_means = [statistics.mean(arr) for arr in splited_ptcnts]\n",
    "\n",
    "plt.hist(ptcnt_means, bins=15)"
   ]
  },
  {
   "cell_type": "markdown",
   "metadata": {},
   "source": [
    "##### ▶線種ごとの座標数を確認する"
   ]
  },
  {
   "cell_type": "code",
   "execution_count": 93,
   "metadata": {},
   "outputs": [
    {
     "name": "stdout",
     "output_type": "stream",
     "text": [
      "0.07688879189097435\n",
      "0.46147873320723604\n",
      "0.38269751200349195\n",
      "0.04806052669867598\n",
      "0.03087443619962171\n"
     ]
    }
   ],
   "source": [
    "pt = df_all.query('shape_int == 0')\n",
    "st = df_all.query('shape_int == 1')\n",
    "cu = df_all.query('shape_int == 2')\n",
    "co = df_all.query('shape_int == 3')\n",
    "ha = df_all.query('shape_int == 4')\n",
    "print(len(pt)/len(df_all))\n",
    "print(len(st)/len(df_all))\n",
    "print(len(cu)/len(df_all))\n",
    "print(len(co)/len(df_all))\n",
    "print(len(ha)/len(df_all))"
   ]
  },
  {
   "cell_type": "code",
   "execution_count": 110,
   "metadata": {},
   "outputs": [],
   "source": [
    "# それぞれの座標数の頻度を確認する\n",
    "df_nopt = df_all.query('shape_int != 0')\n",
    "all_cnt = [[p, len(df_all.query('pt_cnt == @p'))] for p in np.sort(df_all['pt_cnt'].unique())]\n",
    "nopt_cnt = [[p, len(df_nopt.query('pt_cnt == @p'))] for p in np.sort(df_nopt['pt_cnt'].unique())]\n",
    "pt_cnt = [[p, len(pt.query('pt_cnt == @p'))] for p in np.sort(pt['pt_cnt'].unique())]\n",
    "st_cnt = [[p, len(st.query('pt_cnt == @p'))] for p in np.sort(st['pt_cnt'].unique())]\n",
    "cu_cnt = [[p, len(cu.query('pt_cnt == @p'))] for p in np.sort(cu['pt_cnt'].unique())]\n",
    "co_cnt = [[p, len(co.query('pt_cnt == @p'))] for p in np.sort(co['pt_cnt'].unique())]\n",
    "ha_cnt = [[p, len(ha.query('pt_cnt == @p'))] for p in np.sort(ha['pt_cnt'].unique())]"
   ]
  },
  {
   "cell_type": "code",
   "execution_count": 140,
   "metadata": {},
   "outputs": [
    {
     "data": {
      "text/plain": [
       "[<matplotlib.lines.Line2D at 0x1c255774850>]"
      ]
     },
     "execution_count": 140,
     "metadata": {},
     "output_type": "execute_result"
    },
    {
     "data": {
      "image/png": "[encoded data removed]",
      "text/plain": [
       "<Figure size 640x480 with 1 Axes>"
      ]
     },
     "metadata": {},
     "output_type": "display_data"
    }
   ],
   "source": [
    "plt.xlim([0, 50])\n",
    "plt.grid()\n",
    "plt.plot([arr[0] for arr in all_cnt], [arr[1] for arr in all_cnt], marker='.', color='gray')\n",
    "# plt.plot([arr[0] for arr in nopt_cnt], [arr[1] for arr in nopt_cnt], marker='.')\n",
    "\n",
    "plt.plot([arr[0] for arr in pt_cnt], [arr[1] for arr in pt_cnt], marker='.', color='red')\n",
    "plt.plot([arr[0] for arr in st_cnt], [arr[1] for arr in st_cnt], marker='.', color='blue')\n",
    "plt.plot([arr[0] for arr in cu_cnt], [arr[1] for arr in cu_cnt], marker='.', color='green')\n",
    "plt.plot([arr[0] for arr in co_cnt], [arr[1] for arr in co_cnt], marker='.', color='orange')\n",
    "plt.plot([arr[0] for arr in ha_cnt], [arr[1] for arr in ha_cnt], marker='.', color='purple')\n"
   ]
  },
  {
   "cell_type": "code",
   "execution_count": null,
   "metadata": {},
   "outputs": [],
   "source": []
  }
 ],
 "metadata": {
  "kernelspec": {
   "display_name": ".venv",
   "language": "python",
   "name": "python3"
  },
  "language_info": {
   "codemirror_mode": {
    "name": "ipython",
    "version": 3
   },
   "file_extension": ".py",
   "mimetype": "text/x-python",
   "name": "python",
   "nbconvert_exporter": "python",
   "pygments_lexer": "ipython3",
   "version": "3.10.8"
  }
 },
 "nbformat": 4,
 "nbformat_minor": 2
}
