{
 "cells": [
  {
   "cell_type": "markdown",
   "metadata": {},
   "source": [
    "### 2024/02/20 機械学習モデルを用いて線種判定"
   ]
  },
  {
   "cell_type": "code",
   "execution_count": 9,
   "metadata": {},
   "outputs": [],
   "source": [
    "import pandas as pd\n",
    "import numpy as np\n",
    "import requests\n",
    "import io\n",
    "import math\n",
    "import copy\n",
    "import matplotlib as mpl\n",
    "import matplotlib.pyplot as plt\n",
    "from matplotlib import patches\n",
    "from preprocessed_data_plusinfo import PreprocessedDataPlusInfo\n",
    "import umap\n",
    "\n",
    "from sklearn.svm import OneClassSVM\n",
    "\n",
    "from sklearn.manifold import TSNE\n",
    "from matplotlib.offsetbox import OffsetImage, AnnotationBbox\n",
    "from view_function import ViewFunction\n",
    "vf = ViewFunction()"
   ]
  },
  {
   "cell_type": "markdown",
   "metadata": {},
   "source": [
    "##### ▶指導者のみからコサイン類似度の分布を作成"
   ]
  },
  {
   "cell_type": "code",
   "execution_count": 46,
   "metadata": {},
   "outputs": [],
   "source": [
    "drawing_info = pd.read_excel('../data/all_drawing_info.xlsx', index_col=0)\n",
    "# --- 指導者 --- #\n",
    "box_t_info = drawing_info.query('is_preanalysis_box == 1').query('name == \"saito\"')\n",
    "# bag_t_info = drawing_info.query('is_preanalysis_bag == 1').query('name == \"saito\"')\n",
    "\n",
    "# --- 学習者 --- #\n",
    "# box_a_info = drawing_info.query('is_preanalysis_box == 1').query('name == \"井原亜利紗\"')\n",
    "# bag_a_info = drawing_info.query('is_preanalysis_bag == 1').query('name == \"井原亜利紗\"')\n",
    "# box_b_info = drawing_info.query('is_preanalysis_box == 1').query('name == \"高田麻央\"')\n",
    "# bag_b_info = drawing_info.query('is_preanalysis_bag == 1').query('name == \"高田麻央\"')\n",
    "# box_c_info = drawing_info.query('is_preanalysis_box == 1').query('name == \"冨山恭子\"')\n",
    "# bag_c_info = drawing_info.query('is_preanalysis_bag == 1').query('name == \"冨山恭子\"')\n",
    "\n",
    "# ---データ --- #\n",
    "box_t = [PreprocessedDataPlusInfo(url, rtype) for url, rtype in zip(box_t_info['url'], box_t_info['rotate_type'])]\n",
    "# bag_t = [PreprocessedDataPlusInfo(url, rtype) for url, rtype in zip(bag_t_info['url'], bag_t_info['rotate_type'])]\n",
    "\n",
    "# box_a = [PreprocessedDataPlusInfo(url, rtype) for url, rtype in zip(box_a_info['url'], box_a_info['rotate_type'])]\n",
    "# box_b = [PreprocessedDataPlusInfo(url, rtype) for url, rtype in zip(box_b_info['url'], box_b_info['rotate_type'])]\n",
    "# box_c = [PreprocessedDataPlusInfo(url, rtype) for url, rtype in zip(box_c_info['url'], box_c_info['rotate_type'])]\n",
    "# bag_a = [PreprocessedDataPlusInfo(url, rtype) for url, rtype in zip(bag_a_info['url'], bag_a_info['rotate_type'])]\n",
    "# bag_b = [PreprocessedDataPlusInfo(url, rtype) for url, rtype in zip(bag_b_info['url'], bag_b_info['rotate_type'])]\n",
    "# bag_c = [PreprocessedDataPlusInfo(url, rtype) for url, rtype in zip(bag_c_info['url'], bag_c_info['rotate_type'])]\n",
    "\n",
    "df_box_t = pd.concat([box_t[0].df_addinfo, box_t[1].df_addinfo, box_t[2].df_addinfo, box_t[3].df_addinfo], axis=0)"
   ]
  },
  {
   "cell_type": "code",
   "execution_count": 53,
   "metadata": {},
   "outputs": [],
   "source": [
    "df_box_t = pd.concat([box_t[0].df_addinfo, box_t[1].df_addinfo, box_t[2].df_addinfo, box_t[3].df_addinfo], axis=0)"
   ]
  },
  {
   "cell_type": "markdown",
   "metadata": {},
   "source": [
    "##### ▶コサイン類似度を有効桁数4桁で四捨五入"
   ]
  },
  {
   "cell_type": "code",
   "execution_count": 54,
   "metadata": {},
   "outputs": [],
   "source": [
    "import sigfig\n",
    "from decimal import *\n",
    "\n",
    "# 齊藤先生のcossimのみのリストを生成\n",
    "cossims_rounded = []\n",
    "for cossims in df_box_t['cos_sim']:\n",
    "    cossims_rounded.append([round(sim, 4) for sim in cossims])\n",
    "\n",
    "df_box_t['cossim_lerp943_rounded4'] = cossims_rounded"
   ]
  },
  {
   "cell_type": "code",
   "execution_count": 58,
   "metadata": {},
   "outputs": [],
   "source": [
    "df_box_t.to_pickle('../temp/20240301_box_t_rounded4_cossim.pkl')"
   ]
  },
  {
   "cell_type": "code",
   "execution_count": 4,
   "metadata": {},
   "outputs": [],
   "source": [
    "# 線形補完した場合としない場合のコサイン類似度を保存\n",
    "\n",
    "# df_cossim_lerp = pd.DataFrame({'cossim_box_t_rounded4': box_t_cossim_rounded})\n",
    "# df_cossim_lerp.to_csv('../temp/20240221_box_t_cossim_lerp943.csv')\n",
    "\n",
    "# df_cossim_org = pd.DataFrame({'cossim_box_t_rounded4': box_t_cossim_rounded})\n",
    "# df_cossim_org.to_csv('../temp/20240221_box_t_cossim_notlerp.csv')"
   ]
  },
  {
   "cell_type": "code",
   "execution_count": 55,
   "metadata": {},
   "outputs": [],
   "source": [
    "# cossim_1 = [value for value in box_t_cossim_rounded if value == 1]\n",
    "# cossim_under_1 = [value for value in box_t_cossim_rounded if value < 1]"
   ]
  },
  {
   "cell_type": "code",
   "execution_count": 5,
   "metadata": {},
   "outputs": [],
   "source": [
    "# plt.scatter(range(len(df_cossim_org['cossim_box_t_rounded4'])), df_cossim_org['cossim_box_t_rounded4'], marker='.', alpha=0.2)\n",
    "# plt.hist(df_cossim_org['cossim_box_t_rounded4'], bins=100)\n",
    "# plt.boxplot(df_cossim_org['cossim_box_t_rounded4'])\n",
    "# print(len(df_cossim_org['cossim_box_t_rounded4']))"
   ]
  },
  {
   "cell_type": "code",
   "execution_count": 4,
   "metadata": {},
   "outputs": [],
   "source": [
    "# COSSIM_PLOT_COLOR = '#47C96D'\n",
    "# LINE_WIDTH = 1\n",
    "# def generate_cossim_plot(df):\n",
    "#     plt.rcParams['font.family'] = 'MS Gothic'\n",
    "#     FIG_SIZE = (10, 5)\n",
    "#     for drawing_id, cos_sim, stroke_id in zip(df['drawing_id'], df['cos_sim_org'], df['stroke_id']):\n",
    "#         fig, ax = plt.subplots(figsize=(FIG_SIZE[0],FIG_SIZE[1]))\n",
    "#         ax.set_ylim(-1.2, 1.2)\n",
    "#         ax.set_xlim(0, 100)\n",
    "        \n",
    "#         ax.set_xlabel('線形補完後の座標の順番 [番目]')\n",
    "#         ax.set_ylabel('コサイン類似度')\n",
    "#         ax.grid(True, alpha=0.2)\n",
    "#         title = f'cossim_{drawing_id}_{stroke_id}'\n",
    "#         ax.set_title(title)\n",
    "#         ax.plot(range(len(cos_sim)), cos_sim, color=COSSIM_PLOT_COLOR, linewidth=LINE_WIDTH, alpha=1, )\n",
    "#         ax.scatter(range(len(cos_sim)), cos_sim, marker='.', color=COSSIM_PLOT_COLOR, alpha=1, )\n",
    "#         plt.savefig(f'../temp/test/{title}.png')\n",
    "#         plt.show()\n",
    "#         plt.close()\n",
    "        \n",
    "#         print(drawing_id, ' | ', stroke_id)\n",
    "    \n",
    "#     return"
   ]
  },
  {
   "cell_type": "markdown",
   "metadata": {},
   "source": [
    "##### ▶外れ値を検出"
   ]
  },
  {
   "cell_type": "code",
   "execution_count": 21,
   "metadata": {},
   "outputs": [],
   "source": [
    "# データ読み込み\n",
    "cossim_boxt = pd.read_csv('../temp/20240221_box_t_cossim_lerp943.csv', index_col=0)['cossim_box_t_rounded4']"
   ]
  },
  {
   "cell_type": "markdown",
   "metadata": {},
   "source": [
    "##### ▶各ストロークごとに、コサイン類似度が大きい箇所から5箇所だけ、順番に記録"
   ]
  },
  {
   "cell_type": "code",
   "execution_count": 2,
   "metadata": {},
   "outputs": [],
   "source": [
    "cossim_boxt = pd.read_pickle('../temp/20240301_box_t_rounded4_cossim.pkl')"
   ]
  },
  {
   "cell_type": "code",
   "execution_count": 6,
   "metadata": {},
   "outputs": [],
   "source": [
    "# 各ストロークごとに、折り返し点が顕著な箇所（コサイン類似度が大きい箇所）を5点求める\n",
    "# ソートの順番\n",
    "# 1. まず、コサイン類似度を昇順に並べ替える\n",
    "# 2. 同じコサイン類似度の値があった場合、その後、座標の順番を昇順に並べ替える\n",
    "MAX_POINTS = 5\n",
    "cossim_cnums = []\n",
    "for did, sid, cossims in zip(cossim_boxt['drawing_id'], cossim_boxt['stroke_id'], cossim_boxt['cossim_lerp943_rounded4']):\n",
    "    # [cossim, 座標の順番]を1つの要素とする2次元リストを生成\n",
    "    cossim_cnum = [{'cossim': cossim, 'cnum': cnum} for cnum, cossim in enumerate(cossims)]\n",
    "    # print(cossim_coordnums)\n",
    "    # cossim, 座標の順番 の順で昇順に並べ替え\n",
    "    sorted_cossim_cnum = sorted(cossim_cnum, key=lambda x: (x['cossim'], x['cnum']))[:MAX_POINTS]\n",
    "    cossim_cnums.append(sorted_cossim_cnum)"
   ]
  },
  {
   "cell_type": "code",
   "execution_count": 8,
   "metadata": {},
   "outputs": [],
   "source": [
    "cossim_boxt['cossim_cnums_head5'] = cossim_cnums"
   ]
  },
  {
   "cell_type": "markdown",
   "metadata": {},
   "source": [
    "##### ①コサイン類似度を小さい順に並べ替える操作"
   ]
  },
  {
   "cell_type": "code",
   "execution_count": 44,
   "metadata": {},
   "outputs": [],
   "source": [
    "MAX_POINTS = 5\n",
    "RANGE_NUM = 10  # 時系列データを区切る区間の数\n",
    "\n",
    "MAX_COSSIM =  1\n",
    "MIN_COSSIM = -1\n",
    "MAX_CNUM = 940\n",
    "MIN_CNUM = 0\n",
    "\n",
    "cossim_cnum_merges = []\n",
    "for dicts in cossim_boxt['cossim_cnums_head5']:\n",
    "    cossim_cnum_merge = []\n",
    "    for i in range(len(dicts)):\n",
    "        # 正規化 & 有効桁数を3-4桁に\n",
    "        cossim_norm = (dicts[i]['cossim'] - MIN_COSSIM) / (MAX_COSSIM - MIN_COSSIM)\n",
    "        cossim_cnum_merge.append(round(cossim_norm, 4))\n",
    "        cnum_norm = (dicts[i]['cnum'] - MIN_CNUM) / (MAX_CNUM - MIN_CNUM)\n",
    "        cossim_cnum_merge.append(round(cnum_norm, 3))\n",
    "    cossim_cnum_merges.append(cossim_cnum_merge)\n",
    "\n",
    "cossim_boxt['cossim_cnums_head5_merge'] = cossim_cnum_merges"
   ]
  },
  {
   "cell_type": "markdown",
   "metadata": {},
   "source": [
    "##### ▶データの読み込み"
   ]
  },
  {
   "cell_type": "code",
   "execution_count": 3,
   "metadata": {},
   "outputs": [],
   "source": [
    "cossim_boxt = pd.read_pickle('../temp/20240301_box_t_rounded4_cossim.pkl')"
   ]
  },
  {
   "cell_type": "markdown",
   "metadata": {},
   "source": [
    "##### ▶時系列データを均等の区間に区切り、それぞれの区間での最小値を求め、その区間での代表値とする"
   ]
  },
  {
   "cell_type": "code",
   "execution_count": 49,
   "metadata": {},
   "outputs": [],
   "source": [
    "SPLIT_NUM = 3  # 時系列データを区切る区間の数\n",
    "\n",
    "MAX_COSSIM =  1\n",
    "MIN_COSSIM = -1\n",
    "MAX_CNUM = 940\n",
    "MIN_CNUM = 0\n",
    "\n",
    "cossim_split_mins = []\n",
    "for cossims in cossim_boxt['cossim_lerp943_rounded4']:\n",
    "    cossims_split = list(np.array_split(cossims, SPLIT_NUM))\n",
    "    sim_mins = []\n",
    "    for section in cossims_split:\n",
    "        sim_mins.append(min(section))\n",
    "    cossim_split_mins.append(sim_mins)\n",
    "\n",
    "cossim_boxt['cossim_split10_mins'] = cossim_split_mins"
   ]
  },
  {
   "cell_type": "code",
   "execution_count": 50,
   "metadata": {},
   "outputs": [],
   "source": [
    "strt = cossim_boxt.copy().query('shape_int == 1')\n",
    "curv = cossim_boxt.copy().query('shape_int == 2')\n",
    "comp = cossim_boxt.copy().query('shape_int == 3')\n",
    "hatc = cossim_boxt.copy().query('shape_int == 4')"
   ]
  },
  {
   "cell_type": "markdown",
   "metadata": {},
   "source": [
    "##### ▶UMAP"
   ]
  },
  {
   "cell_type": "code",
   "execution_count": 51,
   "metadata": {},
   "outputs": [
    {
     "name": "stderr",
     "output_type": "stream",
     "text": [
      "c:\\Users\\ispec\\MyWorkSpace\\python\\drawing_2023\\.venv\\lib\\site-packages\\umap\\umap_.py:2433: UserWarning: n_neighbors is larger than the dataset size; truncating to X.shape[0] - 1\n",
      "  warn(\n"
     ]
    },
    {
     "data": {
      "image/png": "[encoded data removed]",
      "text/plain": [
       "<Figure size 1000x1000 with 1 Axes>"
      ]
     },
     "metadata": {},
     "output_type": "display_data"
    },
    {
     "name": "stdout",
     "output_type": "stream",
     "text": [
      "finish | 5000\n"
     ]
    }
   ],
   "source": [
    "# 入力データ\n",
    "STRT_SPLIT_INDEX = 100\n",
    "COMP_SPLIT_INDEX = 50\n",
    "SEED = 1\n",
    "\n",
    "\n",
    "train_data = pd.concat([strt[:STRT_SPLIT_INDEX], comp[:COMP_SPLIT_INDEX]], axis=0).sample(n=STRT_SPLIT_INDEX+COMP_SPLIT_INDEX, random_state=SEED)\n",
    "train_nparray = np.array([np.array(nparr) for nparr in train_data['cossim_split10_mins'].to_numpy()])\n",
    "\n",
    "for n_neighbors in [5000]:\n",
    "    mapper = umap.UMAP(n_components=2, \n",
    "                        n_neighbors=n_neighbors,\n",
    "                        min_dist=0.1,\n",
    "                        metric = \"euclidean\"\n",
    "                        )\n",
    "    umap_result = mapper.fit_transform(train_nparray)\n",
    "\n",
    "    train_data['axis0'] = umap_result[:, 0:1]\n",
    "    train_data['axis1'] = umap_result[:, 1:2]\n",
    "    \n",
    "    title = f'1_nneighbors_{n_neighbors}'\n",
    "    plt.rcParams['font.family'] = 'MS Gothic'\n",
    "    FIG_SIZE = (10, 10)\n",
    "    fig, ax = plt.subplots(figsize=(FIG_SIZE[0],FIG_SIZE[1]))\n",
    "    ax.set_xlabel('axis0')\n",
    "    ax.set_ylabel('axis1')\n",
    "    ax.set_title(title)\n",
    "    ax.grid(True, alpha=0.5)\n",
    "    \n",
    "    for ax0, ax1, shape_int in zip(train_data['axis0'], train_data['axis1'], train_data['shape_int']):\n",
    "        if shape_int == 1:\n",
    "            plt.scatter(ax0, ax1, color='blue', alpha=0.2)\n",
    "        elif shape_int == 2:\n",
    "            plt.scatter(ax0, ax1, color='green', alpha=0.2)\n",
    "        elif shape_int == 3:\n",
    "            plt.scatter(ax0, ax1, color='yellow', alpha=0.2)\n",
    "        else:\n",
    "            plt.scatter(ax0, ax1, color='black', alpha=0.2)\n",
    "            \n",
    "    # plt.scatter(train_data['axis0'], train_data['axis1'], color='blue', alpha=0.5)\n",
    "    # plt.savefig(f'{title}_scatter.png')\n",
    "    plt.show()\n",
    "    plt.close()\n",
    "    \n",
    "    train_data.to_csv(f'../temp/{title}.tsv', sep='\\t', encoding='shift-jis')\n",
    "    \n",
    "    print(f'finish | {n_neighbors}')"
   ]
  },
  {
   "cell_type": "markdown",
   "metadata": {},
   "source": [
    "##### ▶One Class SVM"
   ]
  },
  {
   "cell_type": "code",
   "execution_count": 4,
   "metadata": {},
   "outputs": [],
   "source": [
    "# 入力データ\n",
    "STRT_SPLIT_INDEX = 135\n",
    "COMP_SPLIT_INDEX = 15\n",
    "NU = COMP_SPLIT_INDEX / (STRT_SPLIT_INDEX + COMP_SPLIT_INDEX)\n",
    "SEED = 1\n",
    "\n",
    "\n",
    "train_data = pd.concat([strt[:STRT_SPLIT_INDEX], comp[:COMP_SPLIT_INDEX]], axis=0).sample(n=STRT_SPLIT_INDEX+COMP_SPLIT_INDEX, random_state=SEED)\n",
    "train_nparray = np.array([np.array(nparr) for nparr in train_data['cossim_split10_mins'].to_numpy()])\n",
    "\n",
    "test_data = pd.concat([strt[STRT_SPLIT_INDEX:], comp[COMP_SPLIT_INDEX:]], axis=0)\n",
    "test_nparray = np.array([np.array(nparr) for nparr in test_data['cossim_split10_mins'].to_numpy()])\n",
    "\n",
    "# 推論\n",
    "#OC-SVMをインスタンス化。トレーニングデータには1個異常値が含ませているので、nu=0.01とする\n",
    "clf = OneClassSVM(nu = NU, gamma='auto')\n",
    "#トレーニングの実行\n",
    "clf.fit(train_nparray)\n",
    "#予測の実行\n",
    "pred = clf.predict(test_nparray)\n",
    "test_data['ocsvm_pred'] = pred\n",
    "\n",
    "#-1(異常値)となったデータのインデックスを表示\n",
    "pred"
   ]
  },
  {
   "cell_type": "code",
   "execution_count": 1,
   "metadata": {},
   "outputs": [],
   "source": [
    "# import requests\n",
    "\n",
    "# drawing_info = pd.read_excel('../data/all_drawing_info.xlsx', index_col=0)\n",
    "\n",
    "# for did, sid, pred in zip(test_data['drawing_id'], test_data['stroke_id'], test_data['ocsvm_pred']):\n",
    "#     if pred == 1:\n",
    "#         label = 'normal'\n",
    "#     else:\n",
    "#         label = 'exception'\n",
    "        \n",
    "#     url = drawing_info.query('drawing_id == @did')['url'].iloc[-1]\n",
    "#     url_graph = url.replace('/strokes/pointlists', '') +  f'/strokes/{sid}/graph'\n",
    "#     file_name = f'../temp/test/{did}_{sid}_' + label + '.jpg'\n",
    "#     response = requests.get(url_graph, auth=('19t2003a', 'ireneRED77'))\n",
    "#     image = response.content\n",
    "\n",
    "#     with open(file_name, 'wb') as img:\n",
    "#         img.write(image)\n",
    "#     print('----------------')\n",
    "#     print(file_name)\n",
    "#     print(url_graph)"
   ]
  },
  {
   "cell_type": "markdown",
   "metadata": {},
   "source": [
    "##### ▶t-SNE"
   ]
  },
  {
   "cell_type": "code",
   "execution_count": 28,
   "metadata": {},
   "outputs": [
    {
     "name": "stdout",
     "output_type": "stream",
     "text": [
      "finish | 40\n"
     ]
    },
    {
     "data": {
      "image/png": "[encoded data removed]",
      "text/plain": [
       "<Figure size 1000x1000 with 1 Axes>"
      ]
     },
     "metadata": {},
     "output_type": "display_data"
    }
   ],
   "source": [
    "# 入力データ\n",
    "STRT_SPLIT_INDEX = 100\n",
    "COMP_SPLIT_INDEX = 1\n",
    "SEED = 1\n",
    "\n",
    "\n",
    "train_data = pd.concat([strt[:STRT_SPLIT_INDEX], comp[:COMP_SPLIT_INDEX]], axis=0).sample(n=STRT_SPLIT_INDEX+COMP_SPLIT_INDEX, random_state=SEED)\n",
    "train_nparray = np.array([np.array(nparr) for nparr in train_data['cossim_split10_mins'].to_numpy()])\n",
    "\n",
    "##### 調整可能パラメータ #####\n",
    "perplexitys = [ i for i in range(5, 51, 5)]\n",
    "perplexitys = [ 40 ]\n",
    "\n",
    "\n",
    "##### マッピング #####\n",
    "for perp in perplexitys:\n",
    "    tsne_model = TSNE(\n",
    "                    n_components=2,\n",
    "                    perplexity=perp,\n",
    "                    early_exaggeration=12.0, \n",
    "                    learning_rate='auto',\n",
    "                    n_iter=2000,\n",
    "                    n_iter_without_progress=300,\n",
    "                    min_grad_norm=1e-07,\n",
    "                    metric='euclidean',\n",
    "                    metric_params=None,\n",
    "                    init='pca',\n",
    "                    verbose=0,\n",
    "                    random_state=None, \n",
    "                    method='barnes_hut',\n",
    "                    angle=0.5,\n",
    "                    n_jobs=None\n",
    "                    )\n",
    "\n",
    "    tsne_result = tsne_model.fit_transform(train_nparray)\n",
    "\n",
    "    train_data[f'axis0'] = tsne_result[:, 0:1]\n",
    "    train_data[f'axis1'] = tsne_result[:, 1:2]\n",
    "    \n",
    "    plt.rcParams['font.family'] = 'MS Gothic'\n",
    "    FIG_SIZE = (10, 10)\n",
    "    fig, ax = plt.subplots(figsize=(FIG_SIZE[0],FIG_SIZE[1]))\n",
    "    ax.set_xlabel('axis0')\n",
    "    ax.set_ylabel('axis1')\n",
    "    # ax.set_title(title)\n",
    "    ax.grid(True, alpha=0.5)\n",
    "    \n",
    "    for ax0, ax1, shape_int in zip(train_data['axis0'], train_data['axis1'], train_data['shape_int']):\n",
    "        if shape_int == 1:\n",
    "            plt.scatter(ax0, ax1, color='blue', alpha=0.2)\n",
    "        elif shape_int == 2:\n",
    "            plt.scatter(ax0, ax1, color='green', alpha=0.2)\n",
    "        elif shape_int == 3:\n",
    "            plt.scatter(ax0, ax1, color='yellow', alpha=0.2)\n",
    "        else:\n",
    "            plt.scatter(ax0, ax1, color='black', alpha=0.2)\n",
    "    \n",
    "    train_data.to_excel(f'../temp/20240306_tsne_strt_comp_perp{perp}_niter2000.xlsx')\n",
    "    print(f'finish | {perp}')"
   ]
  },
  {
   "cell_type": "code",
   "execution_count": null,
   "metadata": {},
   "outputs": [],
   "source": []
  }
 ],
 "metadata": {
  "kernelspec": {
   "display_name": ".venv",
   "language": "python",
   "name": "python3"
  },
  "language_info": {
   "codemirror_mode": {
    "name": "ipython",
    "version": 3
   },
   "file_extension": ".py",
   "mimetype": "text/x-python",
   "name": "python",
   "nbconvert_exporter": "python",
   "pygments_lexer": "ipython3",
   "version": "3.10.8"
  }
 },
 "nbformat": 4,
 "nbformat_minor": 2
}
